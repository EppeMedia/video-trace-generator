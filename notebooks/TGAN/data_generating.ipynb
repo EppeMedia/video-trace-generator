{
 "cells": [
  {
   "cell_type": "markdown",
   "metadata": {},
   "source": [
    "# Data generating of the 360-degree videos"
   ]
  },
  {
   "cell_type": "code",
   "execution_count": null,
   "metadata": {},
   "outputs": [],
   "source": [
    "import pandas as pd\n",
    "import numpy as np\n",
    "import matplotlib.pyplot as plt\n",
    "import json\n",
    "import glob\n",
    "from datetime import datetime as datetime\n",
    "import time"
   ]
  },
  {
   "cell_type": "code",
   "execution_count": null,
   "metadata": {},
   "outputs": [],
   "source": [
    "# Configure panda to show all columns\n",
    "pd.set_option('display.max_columns', None)"
   ]
  },
  {
   "cell_type": "markdown",
   "metadata": {},
   "source": [
    "### Merging all the traces found"
   ]
  },
  {
   "cell_type": "code",
   "execution_count": null,
   "metadata": {
    "scrolled": true
   },
   "outputs": [],
   "source": [
    "path = '../../traces' # use your path\n",
    "all_files = glob.glob(path + \"/*.json\")\n",
    "\n",
    "li = []\n",
    "\n",
    "for filename in all_files:\n",
    "    df = pd.read_json(filename)\n",
    "    li.append(df)\n",
    "\n",
    "frame = pd.concat(li, ignore_index=True)\n"
   ]
  },
  {
   "cell_type": "code",
   "execution_count": null,
   "metadata": {},
   "outputs": [],
   "source": [
    "# Convert upload date (yyymmdd) to \"days since upload\"\n",
    "\n",
    "current_time = datetime.now().timestamp()\n",
    "\n",
    "for i in frame.index:\n",
    "    try:\n",
    "        upload_time = datetime.strptime(str(frame['upload_date'][i]), '%Y%m%d').timestamp()\n",
    "        ms_since_upload = current_time - upload_time\n",
    "        days_since_upload = ms_since_upload / 86400\n",
    "        \n",
    "        frame['upload_date'][i] =  days_since_upload\n",
    "    except:\n",
    "        pass"
   ]
  },
  {
   "cell_type": "code",
   "execution_count": null,
   "metadata": {
    "scrolled": true
   },
   "outputs": [],
   "source": [
    "gen_frame = frame.copy()\n",
    "\n",
    "gen_frame = gen_frame.explode('categories')\n",
    "gen_frame = gen_frame[['upload_date','categories','duration', 'view_count','like_count','dislike_count', 'formats']]\n",
    "music_frame = gen_frame[gen_frame['categories'] == \"Music\"]\n",
    "music_frame = music_frame.explode('formats')\n",
    "music_frame"
   ]
  },
  {
   "cell_type": "code",
   "execution_count": null,
   "metadata": {},
   "outputs": [],
   "source": [
    "music_frame"
   ]
  },
  {
   "cell_type": "markdown",
   "metadata": {},
   "source": [
    "## Convert format objects to data columns"
   ]
  },
  {
   "cell_type": "markdown",
   "metadata": {},
   "source": [
    "Format objects are JSON objects containing trace information. The properties (keys) of these objects must be unpacked into columns of the dataframe. This makes a row go from containing a column for one format object, to containing many columns; one for each property."
   ]
  },
  {
   "cell_type": "code",
   "execution_count": null,
   "metadata": {
    "scrolled": true
   },
   "outputs": [],
   "source": [
    "df = pd.DataFrame(music_frame['formats'].values.tolist())\n",
    "music_frame = pd.concat([music_frame.reset_index(), df], axis =1)\n",
    "\n",
    "music_frame"
   ]
  },
  {
   "cell_type": "markdown",
   "metadata": {},
   "source": [
    "### Filter out audio formats"
   ]
  },
  {
   "cell_type": "markdown",
   "metadata": {},
   "source": [
    "We are only interested in video streaming. Audio-only formats are discarded to reduce runtime complexity and to obtain accurate results."
   ]
  },
  {
   "cell_type": "code",
   "execution_count": null,
   "metadata": {
    "scrolled": true
   },
   "outputs": [],
   "source": [
    "#music_frame.reset_index(inplace=True)\n",
    "\n",
    "music_frame = music_frame[music_frame[\"vcodec\"] != \"none\"]\n",
    "music_frame"
   ]
  },
  {
   "cell_type": "markdown",
   "metadata": {},
   "source": [
    "### Drop irrelevant columns"
   ]
  },
  {
   "cell_type": "markdown",
   "metadata": {},
   "source": [
    "To reduce runtime complexity and increase the accuracy of the results, we drop columns "
   ]
  },
  {
   "cell_type": "code",
   "execution_count": null,
   "metadata": {},
   "outputs": [],
   "source": [
    "clean_df = music_frame[['upload_date','duration', 'view_count','like_count','dislike_count', 'acodec', 'filesize', 'format' ,'fps', 'vcodec', 'protocol', 'container']].reset_index(drop=True)\n",
    "\n",
    "clean_df[\"like_count\"] = clean_df[\"like_count\"].fillna(0)\n",
    "clean_df[\"container\"] = clean_df[\"container\"].fillna(\"none\")\n",
    "\n",
    "clean_df[\"dislike_count\"] = clean_df[\"dislike_count\"].fillna(0)\n",
    "#clean_df['categories'] = clean_df['categories'].astype(\"string\")\n",
    "# clean_df['format_id'] = clean_df['format_id'].astype(\"category\")\n",
    "# clean_df['acodec'] = clean_df['acodec'].astype(\"category\")\n",
    "clean_df['like_count'] = clean_df['like_count'].astype(\"int64\")\n",
    "clean_df['dislike_count'] = clean_df['dislike_count'].astype(\"int64\")\n",
    "#clean_df['height'] = clean_df['height'].astype(\"object\")\n",
    "clean_df['fps'] = clean_df['fps'].astype(\"object\")\n",
    "# clean_df['vcodec'] = clean_df['vcodec'].astype(\"category\")\n",
    "# clean_df['protocol'] = clean_df['protocol'].astype(\"category\")\n",
    "# clean_df['container'] = clean_df['container'].astype(\"category\")\n",
    "clean_df['upload_date'] = clean_df['upload_date'].astype(\"int64\")\n",
    "\n",
    "\n",
    "clean_df.dtypes"
   ]
  },
  {
   "cell_type": "code",
   "execution_count": null,
   "metadata": {},
   "outputs": [],
   "source": [
    "clean_df"
   ]
  },
  {
   "cell_type": "markdown",
   "metadata": {},
   "source": [
    "## Drop non-primitive (or string) data columns"
   ]
  },
  {
   "cell_type": "markdown",
   "metadata": {},
   "source": [
    "We do this because the TGAN network can not evaluate/generate objects embedded in table cells."
   ]
  },
  {
   "cell_type": "code",
   "execution_count": null,
   "metadata": {},
   "outputs": [],
   "source": [
    "# tmp_frame = music_frame.convert_dtypes()\n",
    "# li = []\n",
    "# for col in tmp_frame:\n",
    "#     print(tmp_frame[col].dtype)\n",
    "#     if tmp_frame[col].dtype == 'object':\n",
    "#         li.append(col)\n",
    "# for item in li:\n",
    "#     music_frame = music_frame.drop(item, axis=1)"
   ]
  },
  {
   "cell_type": "code",
   "execution_count": null,
   "metadata": {
    "scrolled": true
   },
   "outputs": [],
   "source": [
    "clean_df\n",
    "\n"
   ]
  },
  {
   "cell_type": "code",
   "execution_count": null,
   "metadata": {},
   "outputs": [],
   "source": [
    "# from sdv.tabular import CTGAN\n",
    "# model = CTGAN()\n",
    "# model.fit(clean_df)\n",
    "\n",
    "from sdv.tabular import CopulaGAN\n",
    "model = CopulaGAN()\n",
    "model.fit(clean_df)\n",
    "\n",
    "# new_data = model.sample(50)\n",
    "# new_data.describe()"
   ]
  },
  {
   "cell_type": "code",
   "execution_count": null,
   "metadata": {},
   "outputs": [],
   "source": [
    "new_data = model.sample(2000)\n"
   ]
  },
  {
   "cell_type": "code",
   "execution_count": null,
   "metadata": {},
   "outputs": [],
   "source": [
    "new_data[new_data['view_count'] < 0]"
   ]
  },
  {
   "cell_type": "code",
   "execution_count": null,
   "metadata": {},
   "outputs": [],
   "source": [
    "new_data.describe()"
   ]
  },
  {
   "cell_type": "code",
   "execution_count": null,
   "metadata": {},
   "outputs": [],
   "source": [
    "clean_df"
   ]
  },
  {
   "cell_type": "markdown",
   "metadata": {
    "jupyter": {
     "source_hidden": true
    }
   },
   "source": [
    "### Inspect data"
   ]
  },
  {
   "cell_type": "code",
   "execution_count": null,
   "metadata": {
    "jupyter": {
     "source_hidden": true
    }
   },
   "outputs": [],
   "source": [
    "frame.head(2)"
   ]
  },
  {
   "cell_type": "code",
   "execution_count": null,
   "metadata": {},
   "outputs": [],
   "source": [
    "len(frame.id.unique())"
   ]
  },
  {
   "cell_type": "code",
   "execution_count": null,
   "metadata": {
    "jupyter": {
     "source_hidden": true
    }
   },
   "outputs": [],
   "source": [
    "frame.describe()"
   ]
  },
  {
   "cell_type": "code",
   "execution_count": null,
   "metadata": {
    "jupyter": {
     "source_hidden": true
    },
    "scrolled": true
   },
   "outputs": [],
   "source": [
    "print(df.columns.tolist())"
   ]
  },
  {
   "cell_type": "code",
   "execution_count": null,
   "metadata": {
    "jupyter": {
     "source_hidden": true
    }
   },
   "outputs": [],
   "source": [
    "len(frame['categories'].apply(sorted).transform(tuple).unique())"
   ]
  },
  {
   "cell_type": "code",
   "execution_count": null,
   "metadata": {
    "jupyter": {
     "source_hidden": true
    }
   },
   "outputs": [],
   "source": [
    "categories = pd.DataFrame(frame['categories'].apply(sorted).transform(tuple).unique())"
   ]
  },
  {
   "cell_type": "code",
   "execution_count": null,
   "metadata": {
    "jupyter": {
     "source_hidden": true
    },
    "scrolled": true
   },
   "outputs": [],
   "source": [
    "categories"
   ]
  },
  {
   "cell_type": "code",
   "execution_count": null,
   "metadata": {
    "jupyter": {
     "source_hidden": true
    }
   },
   "outputs": [],
   "source": [
    "grouped = frame.groupby(\"categories\")"
   ]
  },
  {
   "cell_type": "code",
   "execution_count": null,
   "metadata": {
    "jupyter": {
     "source_hidden": true
    }
   },
   "outputs": [],
   "source": [
    "newFrame = frame['categories'].apply(sorted).transform(tuple)"
   ]
  },
  {
   "cell_type": "code",
   "execution_count": null,
   "metadata": {
    "jupyter": {
     "source_hidden": true
    }
   },
   "outputs": [],
   "source": [
    "frame[\"tupleCat\"] = newFrame"
   ]
  },
  {
   "cell_type": "code",
   "execution_count": null,
   "metadata": {
    "jupyter": {
     "source_hidden": true
    }
   },
   "outputs": [],
   "source": [
    "frame[\"tupleCat\"]"
   ]
  },
  {
   "cell_type": "code",
   "execution_count": null,
   "metadata": {
    "jupyter": {
     "source_hidden": true
    }
   },
   "outputs": [],
   "source": [
    "frame.groupby(\"tupleCat\").agg(\"count\")[\"id\"]"
   ]
  },
  {
   "cell_type": "markdown",
   "metadata": {
    "jupyter": {
     "source_hidden": true
    }
   },
   "source": [
    "Note: make a bar chart of category video count"
   ]
  },
  {
   "cell_type": "markdown",
   "metadata": {
    "jupyter": {
     "source_hidden": true
    }
   },
   "source": [
    "## Plotting relations between categories and other characteristics"
   ]
  },
  {
   "cell_type": "markdown",
   "metadata": {
    "jupyter": {
     "source_hidden": true
    }
   },
   "source": [
    "### Upload date"
   ]
  },
  {
   "cell_type": "code",
   "execution_count": null,
   "metadata": {
    "jupyter": {
     "source_hidden": true
    }
   },
   "outputs": [],
   "source": [
    "fig, ax = plt.subplots(figsize=(20, 10))\n",
    "frame.explode('categories').boxplot(by='categories', column=['upload_date'], ax=ax, grid=False)\n",
    "\n",
    "ax.yaxis.grid(which='major', linestyle='-', linewidth='0.5', color='red')\n",
    "ax.get_yaxis().set_ticks([365, 730, 1095, 1460, 1825])"
   ]
  },
  {
   "cell_type": "markdown",
   "metadata": {
    "jupyter": {
     "source_hidden": true
    }
   },
   "source": [
    "### Popularity"
   ]
  },
  {
   "cell_type": "markdown",
   "metadata": {
    "jupyter": {
     "source_hidden": true
    }
   },
   "source": [
    "#### Plot popularity"
   ]
  },
  {
   "cell_type": "markdown",
   "metadata": {
    "jupyter": {
     "source_hidden": true
    }
   },
   "source": [
    "Note: like/dislike ratio is not being used for calculating the popularity of a video (see paragraph under graphs)."
   ]
  },
  {
   "cell_type": "code",
   "execution_count": null,
   "metadata": {
    "jupyter": {
     "source_hidden": true
    }
   },
   "outputs": [],
   "source": [
    "# For each entry, calculate its popularity\n",
    "frame['popularity'] = 0.0 # initial float value\n",
    "frame['like_dislike_ratio'] = 0.0\n",
    "\n",
    "for i in frame.index:\n",
    "    view_count = frame['view_count'][i]\n",
    "    days_since_upload = frame['upload_date'][i]\n",
    "    like_count = frame['like_count'][i]\n",
    "    dislike_count = frame['dislike_count'][i]\n",
    "\n",
    "    like_dislike_ratio = like_count / dislike_count\n",
    "\n",
    "    popularity = (view_count / float(days_since_upload))# * like_dislike_ratio\n",
    "\n",
    "    frame['like_dislike_ratio'][i] = like_dislike_ratio\n",
    "    frame['popularity'][i] =  popularity"
   ]
  },
  {
   "cell_type": "code",
   "execution_count": null,
   "metadata": {
    "jupyter": {
     "source_hidden": true
    }
   },
   "outputs": [],
   "source": [
    "# Plot popularity\n",
    "\n",
    "fig, ax = plt.subplots(figsize=(20, 10))\n",
    "frame.explode('categories').boxplot(by='categories', column=['popularity'], ax=ax, grid=False, showfliers=False)\n",
    "\n",
    "ax.yaxis.grid(which='major', linestyle='-', linewidth='0.5', color='red')"
   ]
  },
  {
   "cell_type": "markdown",
   "metadata": {
    "jupyter": {
     "source_hidden": true
    }
   },
   "source": [
    "#### Plot like/dislike ratio"
   ]
  },
  {
   "cell_type": "code",
   "execution_count": null,
   "metadata": {
    "jupyter": {
     "source_hidden": true
    }
   },
   "outputs": [],
   "source": [
    "fig, ax = plt.subplots(figsize=(20, 10))\n",
    "frame.explode('categories').boxplot(by='categories', column=['like_dislike_ratio'], ax=ax, grid=False, showfliers=False)\n",
    "\n",
    "ax.yaxis.grid(which='major', linestyle='-', linewidth='0.5', color='red')\n",
    "ax.get_yaxis().set_ticks([1, 10])"
   ]
  },
  {
   "cell_type": "markdown",
   "metadata": {
    "jupyter": {
     "source_hidden": true
    }
   },
   "source": [
    "In the boxplot above, we find that the ratio between likes and dislikes on a video is hardly ever below 1. Therefore, we may conclude that viewers are more inclined to indicate which videos they like than to indicate which videos they dislike. And indeed, content creators usually encourage their audience to like their videos. Therefore, the ratio between likes and dislikes seems to be positively dominated by a relatively high number of likes.\n",
    "\n",
    "This means that the like/dislike ratio may overrepresent the positive perception and we must be careful with using this metric."
   ]
  },
  {
   "cell_type": "markdown",
   "metadata": {
    "jupyter": {
     "source_hidden": true
    }
   },
   "source": [
    "### Available representations"
   ]
  },
  {
   "cell_type": "markdown",
   "metadata": {
    "jupyter": {
     "source_hidden": true
    }
   },
   "source": [
    "#### Number of representations"
   ]
  },
  {
   "cell_type": "markdown",
   "metadata": {
    "jupyter": {
     "source_hidden": true
    }
   },
   "source": [
    "Not solved yet."
   ]
  },
  {
   "cell_type": "code",
   "execution_count": null,
   "metadata": {
    "jupyter": {
     "source_hidden": true
    }
   },
   "outputs": [],
   "source": [
    "df1 = (pd.concat({i: pd.DataFrame(x) for i, x in frame.pop('formats').items()})\n",
    "         .reset_index(level=1, drop=True)\n",
    "         .join(frame, rsuffix='_shared')\n",
    "         .reset_index(drop=True))\n",
    "\n",
    "df1 = df1[df1.vcodec != \"none\"]\n",
    "\n",
    "df1['available_representations'] = df1['formats'].str.len()\n",
    "\n",
    "fig, ax = plt.subplots(figsize=(20, 10))\n",
    "df1.explode('categories').boxplot(by='categories', column=['available_representations'], ax=ax, grid=False, showfliers=False)\n",
    "\n",
    "ax.yaxis.grid(which='major', linestyle='-', linewidth='0.5', color='red')"
   ]
  },
  {
   "cell_type": "code",
   "execution_count": null,
   "metadata": {
    "jupyter": {
     "source_hidden": true
    },
    "scrolled": true
   },
   "outputs": [],
   "source": [
    "# df1 = (pd.concat({i: pd.DataFrame(x) for i, x in frame.pop('formats').items()})\n",
    "#          .reset_index(level=1, drop=True)\n",
    "#          .join(frame, rsuffix='_shared')\n",
    "#          .reset_index(drop=True))\n",
    "\n",
    "# df1 = df1[df1.vcodec != \"none\"]"
   ]
  },
  {
   "cell_type": "markdown",
   "metadata": {
    "jupyter": {
     "source_hidden": true
    }
   },
   "source": [
    "#### Average bitrate"
   ]
  },
  {
   "cell_type": "code",
   "execution_count": null,
   "metadata": {
    "jupyter": {
     "source_hidden": true
    }
   },
   "outputs": [],
   "source": [
    "# Create column for average bitrate (kbps)\n",
    "df1['average_bitrate'] = 0.0\n",
    "\n",
    "for i in df1.index:\n",
    "    try:\n",
    "        file_size_bytes = df1['filesize'][i]\n",
    "        file_size_bits = file_size_bytes * 8\n",
    "        \n",
    "        duration = df1['duration'][i]\n",
    "        \n",
    "        average_bitrate = (file_size_bits / float(duration)) / 1000 # average bitrate in kbps\n",
    "        \n",
    "        df1['average_bitrate'][i] =  average_bitrate\n",
    "    except:\n",
    "        pass"
   ]
  },
  {
   "cell_type": "code",
   "execution_count": null,
   "metadata": {
    "jupyter": {
     "source_hidden": true
    }
   },
   "outputs": [],
   "source": [
    "fig, ax = plt.subplots(figsize=(20, 10))\n",
    "df1.explode('categories').boxplot(by='categories', column=['average_bitrate'], ax=ax, grid=False, showfliers=False)\n",
    "\n",
    "ax.yaxis.grid(which='major', linestyle='-', linewidth='0.5', color='red')"
   ]
  },
  {
   "cell_type": "markdown",
   "metadata": {
    "jupyter": {
     "source_hidden": true
    }
   },
   "source": [
    "#### File types"
   ]
  },
  {
   "cell_type": "code",
   "execution_count": null,
   "metadata": {
    "jupyter": {
     "source_hidden": true
    }
   },
   "outputs": [],
   "source": [
    "df1.groupby('categories')"
   ]
  },
  {
   "cell_type": "code",
   "execution_count": null,
   "metadata": {
    "jupyter": {
     "source_hidden": true
    },
    "scrolled": true
   },
   "outputs": [],
   "source": [
    "df1.groupby('ext').agg('count')[\"id\"]"
   ]
  },
  {
   "cell_type": "markdown",
   "metadata": {
    "jupyter": {
     "source_hidden": true
    }
   },
   "source": [
    "#### Framerates"
   ]
  },
  {
   "cell_type": "code",
   "execution_count": null,
   "metadata": {
    "jupyter": {
     "source_hidden": true
    }
   },
   "outputs": [],
   "source": [
    "fig, ax = plt.subplots(figsize=(20, 10))\n",
    "df1.explode('categories').boxplot(by='categories', column=['fps'], ax=ax, grid=False, showfliers=True)\n",
    "\n",
    "ax.yaxis.grid(which='major', linestyle='-', linewidth='0.5', color='red')"
   ]
  },
  {
   "cell_type": "markdown",
   "metadata": {
    "jupyter": {
     "source_hidden": true
    }
   },
   "source": [
    "#### Durations"
   ]
  },
  {
   "cell_type": "code",
   "execution_count": null,
   "metadata": {
    "jupyter": {
     "source_hidden": true
    }
   },
   "outputs": [],
   "source": [
    "fig, ax = plt.subplots(figsize=(20, 10))\n",
    "df1.explode('categories').boxplot(by='categories', column=['duration'], ax=ax, grid=False, showfliers=False)\n",
    "\n",
    "ax.yaxis.grid(which='major', linestyle='-', linewidth='0.5', color='red')"
   ]
  },
  {
   "cell_type": "code",
   "execution_count": null,
   "metadata": {
    "jupyter": {
     "source_hidden": true
    }
   },
   "outputs": [],
   "source": []
  }
 ],
 "metadata": {
  "kernelspec": {
   "display_name": "Python 3",
   "language": "python",
   "name": "python3"
  },
  "language_info": {
   "codemirror_mode": {
    "name": "ipython",
    "version": 3
   },
   "file_extension": ".py",
   "mimetype": "text/x-python",
   "name": "python",
   "nbconvert_exporter": "python",
   "pygments_lexer": "ipython3",
   "version": "3.8.5"
  }
 },
 "nbformat": 4,
 "nbformat_minor": 4
}
