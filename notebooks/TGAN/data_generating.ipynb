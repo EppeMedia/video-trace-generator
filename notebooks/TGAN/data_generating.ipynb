{
 "cells": [
  {
   "cell_type": "code",
   "execution_count": 1,
   "metadata": {},
   "outputs": [],
   "source": [
    "import pandas as pd\n",
    "import numpy as np\n",
    "import matplotlib.pyplot as plt\n",
    "import json\n",
    "import glob\n",
    "from datetime import datetime as datetime\n",
    "import time\n",
    "import os"
   ]
  },
  {
   "cell_type": "code",
   "execution_count": 2,
   "metadata": {},
   "outputs": [],
   "source": [
    "# Select category of videos\n",
    "VIDEO_CAT = \"Travel & Events\"\n",
    "# Configure panda to show all columns\n",
    "pd.set_option('display.max_columns', None)"
   ]
  },
  {
   "cell_type": "markdown",
   "metadata": {},
   "source": [
    "# Prepare input dataframe"
   ]
  },
  {
   "cell_type": "markdown",
   "metadata": {},
   "source": [
    "Merging all the available traces "
   ]
  },
  {
   "cell_type": "code",
   "execution_count": 3,
   "metadata": {
    "scrolled": true
   },
   "outputs": [],
   "source": [
    "path = '../../traces' # use your path\n",
    "all_files = glob.glob(path + \"/*.json\")\n",
    "\n",
    "li = []\n",
    "\n",
    "for filename in all_files:\n",
    "    df = pd.read_json(filename)\n",
    "    li.append(df)\n",
    "\n",
    "df = pd.concat(li, ignore_index=True)"
   ]
  },
  {
   "cell_type": "markdown",
   "metadata": {},
   "source": [
    "Convert upload date (yyymmdd) to \"days since upload\""
   ]
  },
  {
   "cell_type": "code",
   "execution_count": 4,
   "metadata": {},
   "outputs": [
    {
     "name": "stderr",
     "output_type": "stream",
     "text": [
      "<ipython-input-4-704c61546701>:9: SettingWithCopyWarning: \n",
      "A value is trying to be set on a copy of a slice from a DataFrame\n",
      "\n",
      "See the caveats in the documentation: https://pandas.pydata.org/pandas-docs/stable/user_guide/indexing.html#returning-a-view-versus-a-copy\n",
      "  df['upload_date'][i] =  days_since_upload\n"
     ]
    }
   ],
   "source": [
    "current_time = datetime.now().timestamp()\n",
    "\n",
    "for i in df.index:\n",
    "    try:\n",
    "        upload_time = datetime.strptime(str(df['upload_date'][i]), '%Y%m%d').timestamp()\n",
    "        seconds_since_upload = current_time - upload_time\n",
    "        days_since_upload = seconds_since_upload / 86400 # 86400 seconds in a day\n",
    "        \n",
    "        df['upload_date'][i] =  days_since_upload\n",
    "    except:\n",
    "        pass"
   ]
  },
  {
   "cell_type": "markdown",
   "metadata": {},
   "source": [
    "Explode categories and remove irrelevant columns"
   ]
  },
  {
   "cell_type": "code",
   "execution_count": 5,
   "metadata": {},
   "outputs": [],
   "source": [
    "df = df.explode('categories')\n",
    "df = df[['upload_date','categories','duration', 'view_count','like_count','dislike_count', 'formats']]"
   ]
  },
  {
   "cell_type": "markdown",
   "metadata": {},
   "source": [
    "Filter on video category"
   ]
  },
  {
   "cell_type": "code",
   "execution_count": 6,
   "metadata": {
    "scrolled": true
   },
   "outputs": [],
   "source": [
    "cat_df = df[df['categories'] == VIDEO_CAT]"
   ]
  },
  {
   "cell_type": "markdown",
   "metadata": {},
   "source": [
    "Explode on formats"
   ]
  },
  {
   "cell_type": "code",
   "execution_count": 7,
   "metadata": {},
   "outputs": [],
   "source": [
    "cat_df = cat_df.explode('formats')"
   ]
  },
  {
   "cell_type": "markdown",
   "metadata": {},
   "source": [
    "Convert format objects to data columns. Format objects are JSON objects containing trace information. The properties (keys) of these objects must be unpacked into columns of the datadf. This makes a row go from containing a column for one format object, to containing many columns; one for each property."
   ]
  },
  {
   "cell_type": "code",
   "execution_count": 8,
   "metadata": {
    "scrolled": true
   },
   "outputs": [],
   "source": [
    "formats_df = pd.DataFrame(cat_df['formats'].values.tolist())\n",
    "cat_df = pd.concat([cat_df.reset_index(), formats_df], axis=1)"
   ]
  },
  {
   "cell_type": "markdown",
   "metadata": {},
   "source": [
    "Filter out audio formats"
   ]
  },
  {
   "cell_type": "code",
   "execution_count": 9,
   "metadata": {
    "scrolled": true
   },
   "outputs": [],
   "source": [
    "cat_df = cat_df[cat_df[\"vcodec\"] != \"none\"]"
   ]
  },
  {
   "cell_type": "markdown",
   "metadata": {},
   "source": [
    "Drop irrelevant columns"
   ]
  },
  {
   "cell_type": "code",
   "execution_count": 10,
   "metadata": {},
   "outputs": [],
   "source": [
    "clean_df = cat_df[['upload_date','duration', 'view_count','like_count','dislike_count', 'acodec', 'filesize', 'format' ,'fps', 'vcodec', 'protocol', 'container']].reset_index(drop=True)\n",
    "\n",
    "# Fill empty cells with default value\n",
    "clean_df[\"like_count\"] = clean_df[\"like_count\"].fillna(0)\n",
    "clean_df[\"container\"] = clean_df[\"container\"].fillna(\"none\")\n",
    "clean_df[\"dislike_count\"] = clean_df[\"dislike_count\"].fillna(0)\n",
    "\n",
    "# Convert datat types\n",
    "clean_df['like_count'] = clean_df['like_count'].astype(\"int64\")\n",
    "clean_df['dislike_count'] = clean_df['dislike_count'].astype(\"int64\")\n",
    "clean_df['fps'] = clean_df['fps'].astype(\"object\")\n",
    "clean_df['upload_date'] = clean_df['upload_date'].astype(\"int64\")"
   ]
  },
  {
   "cell_type": "markdown",
   "metadata": {},
   "source": [
    "Print clean input dataframe for debugging"
   ]
  },
  {
   "cell_type": "code",
   "execution_count": 11,
   "metadata": {},
   "outputs": [
    {
     "data": {
      "text/html": [
       "<div>\n",
       "<style scoped>\n",
       "    .dataframe tbody tr th:only-of-type {\n",
       "        vertical-align: middle;\n",
       "    }\n",
       "\n",
       "    .dataframe tbody tr th {\n",
       "        vertical-align: top;\n",
       "    }\n",
       "\n",
       "    .dataframe thead th {\n",
       "        text-align: right;\n",
       "    }\n",
       "</style>\n",
       "<table border=\"1\" class=\"dataframe\">\n",
       "  <thead>\n",
       "    <tr style=\"text-align: right;\">\n",
       "      <th></th>\n",
       "      <th>upload_date</th>\n",
       "      <th>duration</th>\n",
       "      <th>view_count</th>\n",
       "      <th>like_count</th>\n",
       "      <th>dislike_count</th>\n",
       "      <th>acodec</th>\n",
       "      <th>filesize</th>\n",
       "      <th>format</th>\n",
       "      <th>fps</th>\n",
       "      <th>vcodec</th>\n",
       "      <th>protocol</th>\n",
       "      <th>container</th>\n",
       "    </tr>\n",
       "  </thead>\n",
       "  <tbody>\n",
       "    <tr>\n",
       "      <th>0</th>\n",
       "      <td>1216</td>\n",
       "      <td>265</td>\n",
       "      <td>11706236</td>\n",
       "      <td>61117</td>\n",
       "      <td>6686</td>\n",
       "      <td>none</td>\n",
       "      <td>2902073.0</td>\n",
       "      <td>278 - 256x144 (144s)</td>\n",
       "      <td>30</td>\n",
       "      <td>vp9</td>\n",
       "      <td>https</td>\n",
       "      <td>webm</td>\n",
       "    </tr>\n",
       "    <tr>\n",
       "      <th>1</th>\n",
       "      <td>1216</td>\n",
       "      <td>265</td>\n",
       "      <td>11706236</td>\n",
       "      <td>61117</td>\n",
       "      <td>6686</td>\n",
       "      <td>none</td>\n",
       "      <td>2459632.0</td>\n",
       "      <td>160 - 256x144 (144s)</td>\n",
       "      <td>30</td>\n",
       "      <td>avc1.4d400c</td>\n",
       "      <td>https</td>\n",
       "      <td>none</td>\n",
       "    </tr>\n",
       "    <tr>\n",
       "      <th>2</th>\n",
       "      <td>1216</td>\n",
       "      <td>265</td>\n",
       "      <td>11706236</td>\n",
       "      <td>61117</td>\n",
       "      <td>6686</td>\n",
       "      <td>none</td>\n",
       "      <td>6165460.0</td>\n",
       "      <td>242 - 424x240 (240s)</td>\n",
       "      <td>30</td>\n",
       "      <td>vp9</td>\n",
       "      <td>https</td>\n",
       "      <td>none</td>\n",
       "    </tr>\n",
       "    <tr>\n",
       "      <th>3</th>\n",
       "      <td>1216</td>\n",
       "      <td>265</td>\n",
       "      <td>11706236</td>\n",
       "      <td>61117</td>\n",
       "      <td>6686</td>\n",
       "      <td>none</td>\n",
       "      <td>5342931.0</td>\n",
       "      <td>133 - 424x240 (240s)</td>\n",
       "      <td>30</td>\n",
       "      <td>avc1.4d4015</td>\n",
       "      <td>https</td>\n",
       "      <td>none</td>\n",
       "    </tr>\n",
       "    <tr>\n",
       "      <th>4</th>\n",
       "      <td>1216</td>\n",
       "      <td>265</td>\n",
       "      <td>11706236</td>\n",
       "      <td>61117</td>\n",
       "      <td>6686</td>\n",
       "      <td>none</td>\n",
       "      <td>11625305.0</td>\n",
       "      <td>243 - 640x360 (360s)</td>\n",
       "      <td>30</td>\n",
       "      <td>vp9</td>\n",
       "      <td>https</td>\n",
       "      <td>none</td>\n",
       "    </tr>\n",
       "  </tbody>\n",
       "</table>\n",
       "</div>"
      ],
      "text/plain": [
       "   upload_date  duration  view_count  like_count  dislike_count acodec  \\\n",
       "0         1216       265    11706236       61117           6686   none   \n",
       "1         1216       265    11706236       61117           6686   none   \n",
       "2         1216       265    11706236       61117           6686   none   \n",
       "3         1216       265    11706236       61117           6686   none   \n",
       "4         1216       265    11706236       61117           6686   none   \n",
       "\n",
       "     filesize                format fps       vcodec protocol container  \n",
       "0   2902073.0  278 - 256x144 (144s)  30          vp9    https      webm  \n",
       "1   2459632.0  160 - 256x144 (144s)  30  avc1.4d400c    https      none  \n",
       "2   6165460.0  242 - 424x240 (240s)  30          vp9    https      none  \n",
       "3   5342931.0  133 - 424x240 (240s)  30  avc1.4d4015    https      none  \n",
       "4  11625305.0  243 - 640x360 (360s)  30          vp9    https      none  "
      ]
     },
     "execution_count": 11,
     "metadata": {},
     "output_type": "execute_result"
    }
   ],
   "source": [
    "clean_df.head()"
   ]
  },
  {
   "cell_type": "markdown",
   "metadata": {},
   "source": [
    "# Prepare Generative Adversarial Network models"
   ]
  },
  {
   "cell_type": "markdown",
   "metadata": {},
   "source": [
    "Prepare CTGAN model"
   ]
  },
  {
   "cell_type": "code",
   "execution_count": 12,
   "metadata": {},
   "outputs": [
    {
     "name": "stderr",
     "output_type": "stream",
     "text": [
      "C:\\Users\\omer_\\anaconda3\\lib\\site-packages\\sklearn\\utils\\validation.py:67: FutureWarning: Pass n_components=10 as keyword args. From version 0.25 passing these as positional arguments will result in an error\n",
      "  warnings.warn(\"Pass {} as keyword args. From version 0.25 \"\n",
      "C:\\Users\\omer_\\anaconda3\\lib\\site-packages\\sklearn\\mixture\\_base.py:265: ConvergenceWarning: Initialization 1 did not converge. Try different init parameters, or increase max_iter, tol or check for degenerate data.\n",
      "  warnings.warn('Initialization %d did not converge. '\n",
      "C:\\Users\\omer_\\anaconda3\\lib\\site-packages\\sklearn\\utils\\validation.py:67: FutureWarning: Pass n_components=10 as keyword args. From version 0.25 passing these as positional arguments will result in an error\n",
      "  warnings.warn(\"Pass {} as keyword args. From version 0.25 \"\n",
      "C:\\Users\\omer_\\anaconda3\\lib\\site-packages\\sklearn\\mixture\\_base.py:265: ConvergenceWarning: Initialization 1 did not converge. Try different init parameters, or increase max_iter, tol or check for degenerate data.\n",
      "  warnings.warn('Initialization %d did not converge. '\n",
      "C:\\Users\\omer_\\anaconda3\\lib\\site-packages\\sklearn\\utils\\validation.py:67: FutureWarning: Pass n_components=10 as keyword args. From version 0.25 passing these as positional arguments will result in an error\n",
      "  warnings.warn(\"Pass {} as keyword args. From version 0.25 \"\n",
      "C:\\Users\\omer_\\anaconda3\\lib\\site-packages\\sklearn\\mixture\\_base.py:265: ConvergenceWarning: Initialization 1 did not converge. Try different init parameters, or increase max_iter, tol or check for degenerate data.\n",
      "  warnings.warn('Initialization %d did not converge. '\n",
      "C:\\Users\\omer_\\anaconda3\\lib\\site-packages\\sklearn\\utils\\validation.py:67: FutureWarning: Pass n_components=10 as keyword args. From version 0.25 passing these as positional arguments will result in an error\n",
      "  warnings.warn(\"Pass {} as keyword args. From version 0.25 \"\n",
      "C:\\Users\\omer_\\anaconda3\\lib\\site-packages\\sklearn\\mixture\\_base.py:265: ConvergenceWarning: Initialization 1 did not converge. Try different init parameters, or increase max_iter, tol or check for degenerate data.\n",
      "  warnings.warn('Initialization %d did not converge. '\n",
      "C:\\Users\\omer_\\anaconda3\\lib\\site-packages\\sklearn\\utils\\validation.py:67: FutureWarning: Pass n_components=10 as keyword args. From version 0.25 passing these as positional arguments will result in an error\n",
      "  warnings.warn(\"Pass {} as keyword args. From version 0.25 \"\n",
      "C:\\Users\\omer_\\anaconda3\\lib\\site-packages\\sklearn\\utils\\validation.py:67: FutureWarning: Pass n_components=10 as keyword args. From version 0.25 passing these as positional arguments will result in an error\n",
      "  warnings.warn(\"Pass {} as keyword args. From version 0.25 \"\n",
      "C:\\Users\\omer_\\anaconda3\\lib\\site-packages\\sklearn\\mixture\\_base.py:265: ConvergenceWarning: Initialization 1 did not converge. Try different init parameters, or increase max_iter, tol or check for degenerate data.\n",
      "  warnings.warn('Initialization %d did not converge. '\n",
      "C:\\Users\\omer_\\anaconda3\\lib\\site-packages\\sklearn\\utils\\validation.py:67: FutureWarning: Pass n_components=10 as keyword args. From version 0.25 passing these as positional arguments will result in an error\n",
      "  warnings.warn(\"Pass {} as keyword args. From version 0.25 \"\n",
      "C:\\Users\\omer_\\anaconda3\\lib\\site-packages\\sklearn\\mixture\\_base.py:147: ConvergenceWarning: Number of distinct clusters (2) found smaller than n_clusters (10). Possibly due to duplicate points in X.\n",
      "  label = cluster.KMeans(n_clusters=self.n_components, n_init=1,\n"
     ]
    }
   ],
   "source": [
    "from sdv.tabular import CTGAN\n",
    "modelCTGAN = CTGAN()\n",
    "modelCTGAN.fit(clean_df)"
   ]
  },
  {
   "cell_type": "markdown",
   "metadata": {},
   "source": [
    "Prepare CopulaGAN model"
   ]
  },
  {
   "cell_type": "code",
   "execution_count": 13,
   "metadata": {},
   "outputs": [
    {
     "name": "stderr",
     "output_type": "stream",
     "text": [
      "C:\\Users\\omer_\\anaconda3\\lib\\site-packages\\scipy\\stats\\_continuous_distns.py:4965: RuntimeWarning: divide by zero encountered in true_divide\n",
      "  return c**2 / (c**2 - n**2)\n",
      "C:\\Users\\omer_\\anaconda3\\lib\\site-packages\\scipy\\stats\\_distn_infrastructure.py:2429: RuntimeWarning: invalid value encountered in double_scalars\n",
      "  Lhat = muhat - Shat*mu\n",
      "C:\\Users\\omer_\\anaconda3\\lib\\site-packages\\copulas\\univariate\\truncated_gaussian.py:43: RuntimeWarning: invalid value encountered in double_scalars\n",
      "  a = (self.min - loc) / scale\n",
      "C:\\Users\\omer_\\anaconda3\\lib\\site-packages\\copulas\\univariate\\truncated_gaussian.py:44: RuntimeWarning: divide by zero encountered in double_scalars\n",
      "  b = (self.max - loc) / scale\n",
      "C:\\Users\\omer_\\anaconda3\\lib\\site-packages\\scipy\\stats\\_continuous_distns.py:621: RuntimeWarning: invalid value encountered in sqrt\n",
      "  sk = 2*(b-a)*np.sqrt(a + b + 1) / (a + b + 2) / np.sqrt(a*b)\n",
      "C:\\Users\\omer_\\anaconda3\\lib\\site-packages\\scipy\\optimize\\minpack.py:175: RuntimeWarning: The iteration is not making good progress, as measured by the \n",
      "  improvement from the last ten iterations.\n",
      "  warnings.warn(msg, RuntimeWarning)\n",
      "C:\\Users\\omer_\\anaconda3\\lib\\site-packages\\sklearn\\utils\\validation.py:67: FutureWarning: Pass n_components=10 as keyword args. From version 0.25 passing these as positional arguments will result in an error\n",
      "  warnings.warn(\"Pass {} as keyword args. From version 0.25 \"\n",
      "C:\\Users\\omer_\\anaconda3\\lib\\site-packages\\sklearn\\mixture\\_base.py:265: ConvergenceWarning: Initialization 1 did not converge. Try different init parameters, or increase max_iter, tol or check for degenerate data.\n",
      "  warnings.warn('Initialization %d did not converge. '\n",
      "C:\\Users\\omer_\\anaconda3\\lib\\site-packages\\sklearn\\utils\\validation.py:67: FutureWarning: Pass n_components=10 as keyword args. From version 0.25 passing these as positional arguments will result in an error\n",
      "  warnings.warn(\"Pass {} as keyword args. From version 0.25 \"\n",
      "C:\\Users\\omer_\\anaconda3\\lib\\site-packages\\sklearn\\mixture\\_base.py:265: ConvergenceWarning: Initialization 1 did not converge. Try different init parameters, or increase max_iter, tol or check for degenerate data.\n",
      "  warnings.warn('Initialization %d did not converge. '\n",
      "C:\\Users\\omer_\\anaconda3\\lib\\site-packages\\sklearn\\utils\\validation.py:67: FutureWarning: Pass n_components=10 as keyword args. From version 0.25 passing these as positional arguments will result in an error\n",
      "  warnings.warn(\"Pass {} as keyword args. From version 0.25 \"\n",
      "C:\\Users\\omer_\\anaconda3\\lib\\site-packages\\sklearn\\mixture\\_base.py:265: ConvergenceWarning: Initialization 1 did not converge. Try different init parameters, or increase max_iter, tol or check for degenerate data.\n",
      "  warnings.warn('Initialization %d did not converge. '\n",
      "C:\\Users\\omer_\\anaconda3\\lib\\site-packages\\sklearn\\utils\\validation.py:67: FutureWarning: Pass n_components=10 as keyword args. From version 0.25 passing these as positional arguments will result in an error\n",
      "  warnings.warn(\"Pass {} as keyword args. From version 0.25 \"\n",
      "C:\\Users\\omer_\\anaconda3\\lib\\site-packages\\sklearn\\mixture\\_base.py:265: ConvergenceWarning: Initialization 1 did not converge. Try different init parameters, or increase max_iter, tol or check for degenerate data.\n",
      "  warnings.warn('Initialization %d did not converge. '\n",
      "C:\\Users\\omer_\\anaconda3\\lib\\site-packages\\sklearn\\utils\\validation.py:67: FutureWarning: Pass n_components=10 as keyword args. From version 0.25 passing these as positional arguments will result in an error\n",
      "  warnings.warn(\"Pass {} as keyword args. From version 0.25 \"\n",
      "C:\\Users\\omer_\\anaconda3\\lib\\site-packages\\sklearn\\mixture\\_base.py:265: ConvergenceWarning: Initialization 1 did not converge. Try different init parameters, or increase max_iter, tol or check for degenerate data.\n",
      "  warnings.warn('Initialization %d did not converge. '\n",
      "C:\\Users\\omer_\\anaconda3\\lib\\site-packages\\sklearn\\utils\\validation.py:67: FutureWarning: Pass n_components=10 as keyword args. From version 0.25 passing these as positional arguments will result in an error\n",
      "  warnings.warn(\"Pass {} as keyword args. From version 0.25 \"\n",
      "C:\\Users\\omer_\\anaconda3\\lib\\site-packages\\sklearn\\mixture\\_base.py:265: ConvergenceWarning: Initialization 1 did not converge. Try different init parameters, or increase max_iter, tol or check for degenerate data.\n",
      "  warnings.warn('Initialization %d did not converge. '\n",
      "C:\\Users\\omer_\\anaconda3\\lib\\site-packages\\sklearn\\utils\\validation.py:67: FutureWarning: Pass n_components=10 as keyword args. From version 0.25 passing these as positional arguments will result in an error\n",
      "  warnings.warn(\"Pass {} as keyword args. From version 0.25 \"\n",
      "C:\\Users\\omer_\\anaconda3\\lib\\site-packages\\sklearn\\mixture\\_base.py:147: ConvergenceWarning: Number of distinct clusters (2) found smaller than n_clusters (10). Possibly due to duplicate points in X.\n",
      "  label = cluster.KMeans(n_clusters=self.n_components, n_init=1,\n"
     ]
    }
   ],
   "source": [
    "from sdv.tabular import CopulaGAN\n",
    "modelCopulaGAN = CopulaGAN()\n",
    "modelCopulaGAN.fit(clean_df)"
   ]
  },
  {
   "cell_type": "code",
   "execution_count": 14,
   "metadata": {},
   "outputs": [],
   "source": [
    "new_dataCT = modelCTGAN.sample(2000)\n",
    "new_dataCopula = modelCopulaGAN.sample(2000)"
   ]
  },
  {
   "cell_type": "code",
   "execution_count": 15,
   "metadata": {},
   "outputs": [
    {
     "data": {
      "text/html": [
       "<div>\n",
       "<style scoped>\n",
       "    .dataframe tbody tr th:only-of-type {\n",
       "        vertical-align: middle;\n",
       "    }\n",
       "\n",
       "    .dataframe tbody tr th {\n",
       "        vertical-align: top;\n",
       "    }\n",
       "\n",
       "    .dataframe thead th {\n",
       "        text-align: right;\n",
       "    }\n",
       "</style>\n",
       "<table border=\"1\" class=\"dataframe\">\n",
       "  <thead>\n",
       "    <tr style=\"text-align: right;\">\n",
       "      <th></th>\n",
       "      <th>upload_date</th>\n",
       "      <th>duration</th>\n",
       "      <th>view_count</th>\n",
       "      <th>like_count</th>\n",
       "      <th>dislike_count</th>\n",
       "      <th>acodec</th>\n",
       "      <th>filesize</th>\n",
       "      <th>format</th>\n",
       "      <th>fps</th>\n",
       "      <th>vcodec</th>\n",
       "      <th>protocol</th>\n",
       "      <th>container</th>\n",
       "    </tr>\n",
       "  </thead>\n",
       "  <tbody>\n",
       "    <tr>\n",
       "      <th>0</th>\n",
       "      <td>81</td>\n",
       "      <td>88</td>\n",
       "      <td>60306</td>\n",
       "      <td>-358</td>\n",
       "      <td>3</td>\n",
       "      <td>none</td>\n",
       "      <td>3.359303e+07</td>\n",
       "      <td>133 - 424x240 (240s)</td>\n",
       "      <td>30</td>\n",
       "      <td>vp9</td>\n",
       "      <td>https</td>\n",
       "      <td>none</td>\n",
       "    </tr>\n",
       "    <tr>\n",
       "      <th>1</th>\n",
       "      <td>1210</td>\n",
       "      <td>670</td>\n",
       "      <td>12653915</td>\n",
       "      <td>825</td>\n",
       "      <td>39</td>\n",
       "      <td>none</td>\n",
       "      <td>9.620029e+07</td>\n",
       "      <td>248 - 1920x1080 (1080s)</td>\n",
       "      <td>30</td>\n",
       "      <td>avc1.4d401f</td>\n",
       "      <td>https</td>\n",
       "      <td>none</td>\n",
       "    </tr>\n",
       "    <tr>\n",
       "      <th>2</th>\n",
       "      <td>438</td>\n",
       "      <td>409</td>\n",
       "      <td>-20139</td>\n",
       "      <td>-9</td>\n",
       "      <td>-4</td>\n",
       "      <td>none</td>\n",
       "      <td>NaN</td>\n",
       "      <td>138 - 7680x7680 (DASH video)</td>\n",
       "      <td>30</td>\n",
       "      <td>vp9</td>\n",
       "      <td>http_dash_segments</td>\n",
       "      <td>webm_dash</td>\n",
       "    </tr>\n",
       "    <tr>\n",
       "      <th>3</th>\n",
       "      <td>35</td>\n",
       "      <td>60</td>\n",
       "      <td>15886</td>\n",
       "      <td>385</td>\n",
       "      <td>-38</td>\n",
       "      <td>none</td>\n",
       "      <td>2.789138e+07</td>\n",
       "      <td>272 - 6400x3200 (2880s)</td>\n",
       "      <td>60</td>\n",
       "      <td>avc1.4d401e</td>\n",
       "      <td>https</td>\n",
       "      <td>none</td>\n",
       "    </tr>\n",
       "    <tr>\n",
       "      <th>4</th>\n",
       "      <td>76</td>\n",
       "      <td>237</td>\n",
       "      <td>6558235</td>\n",
       "      <td>451</td>\n",
       "      <td>5070</td>\n",
       "      <td>mp4a.40.2</td>\n",
       "      <td>3.475238e+08</td>\n",
       "      <td>18 - 640x360 (360s)</td>\n",
       "      <td>30</td>\n",
       "      <td>avc1.42001E</td>\n",
       "      <td>https</td>\n",
       "      <td>none</td>\n",
       "    </tr>\n",
       "  </tbody>\n",
       "</table>\n",
       "</div>"
      ],
      "text/plain": [
       "   upload_date  duration  view_count  like_count  dislike_count     acodec  \\\n",
       "0           81        88       60306        -358              3       none   \n",
       "1         1210       670    12653915         825             39       none   \n",
       "2          438       409      -20139          -9             -4       none   \n",
       "3           35        60       15886         385            -38       none   \n",
       "4           76       237     6558235         451           5070  mp4a.40.2   \n",
       "\n",
       "       filesize                        format fps       vcodec  \\\n",
       "0  3.359303e+07          133 - 424x240 (240s)  30          vp9   \n",
       "1  9.620029e+07       248 - 1920x1080 (1080s)  30  avc1.4d401f   \n",
       "2           NaN  138 - 7680x7680 (DASH video)  30          vp9   \n",
       "3  2.789138e+07       272 - 6400x3200 (2880s)  60  avc1.4d401e   \n",
       "4  3.475238e+08           18 - 640x360 (360s)  30  avc1.42001E   \n",
       "\n",
       "             protocol  container  \n",
       "0               https       none  \n",
       "1               https       none  \n",
       "2  http_dash_segments  webm_dash  \n",
       "3               https       none  \n",
       "4               https       none  "
      ]
     },
     "execution_count": 15,
     "metadata": {},
     "output_type": "execute_result"
    }
   ],
   "source": [
    "new_dataCT.head()"
   ]
  },
  {
   "cell_type": "code",
   "execution_count": 16,
   "metadata": {},
   "outputs": [
    {
     "data": {
      "text/html": [
       "<div>\n",
       "<style scoped>\n",
       "    .dataframe tbody tr th:only-of-type {\n",
       "        vertical-align: middle;\n",
       "    }\n",
       "\n",
       "    .dataframe tbody tr th {\n",
       "        vertical-align: top;\n",
       "    }\n",
       "\n",
       "    .dataframe thead th {\n",
       "        text-align: right;\n",
       "    }\n",
       "</style>\n",
       "<table border=\"1\" class=\"dataframe\">\n",
       "  <thead>\n",
       "    <tr style=\"text-align: right;\">\n",
       "      <th></th>\n",
       "      <th>upload_date</th>\n",
       "      <th>duration</th>\n",
       "      <th>view_count</th>\n",
       "      <th>like_count</th>\n",
       "      <th>dislike_count</th>\n",
       "      <th>acodec</th>\n",
       "      <th>filesize</th>\n",
       "      <th>format</th>\n",
       "      <th>fps</th>\n",
       "      <th>vcodec</th>\n",
       "      <th>protocol</th>\n",
       "      <th>container</th>\n",
       "    </tr>\n",
       "  </thead>\n",
       "  <tbody>\n",
       "    <tr>\n",
       "      <th>0</th>\n",
       "      <td>643</td>\n",
       "      <td>192</td>\n",
       "      <td>8228858</td>\n",
       "      <td>69494</td>\n",
       "      <td>9641</td>\n",
       "      <td>none</td>\n",
       "      <td>5.190629e+05</td>\n",
       "      <td>278 - 256x144 (144s)</td>\n",
       "      <td>30</td>\n",
       "      <td>vp9</td>\n",
       "      <td>https</td>\n",
       "      <td>webm</td>\n",
       "    </tr>\n",
       "    <tr>\n",
       "      <th>1</th>\n",
       "      <td>649</td>\n",
       "      <td>770</td>\n",
       "      <td>265</td>\n",
       "      <td>4</td>\n",
       "      <td>0</td>\n",
       "      <td>none</td>\n",
       "      <td>7.880943e+06</td>\n",
       "      <td>133 - 426x240 (240s)</td>\n",
       "      <td>30</td>\n",
       "      <td>vp9</td>\n",
       "      <td>https</td>\n",
       "      <td>none</td>\n",
       "    </tr>\n",
       "    <tr>\n",
       "      <th>2</th>\n",
       "      <td>1479</td>\n",
       "      <td>151</td>\n",
       "      <td>4904563</td>\n",
       "      <td>41</td>\n",
       "      <td>107</td>\n",
       "      <td>none</td>\n",
       "      <td>1.940671e+06</td>\n",
       "      <td>278 - 256x144 (144s)</td>\n",
       "      <td>25</td>\n",
       "      <td>vp9</td>\n",
       "      <td>https</td>\n",
       "      <td>webm</td>\n",
       "    </tr>\n",
       "    <tr>\n",
       "      <th>3</th>\n",
       "      <td>1326</td>\n",
       "      <td>419</td>\n",
       "      <td>137335</td>\n",
       "      <td>648</td>\n",
       "      <td>71</td>\n",
       "      <td>none</td>\n",
       "      <td>8.231800e+07</td>\n",
       "      <td>397 - 854x480 (480s)</td>\n",
       "      <td>25</td>\n",
       "      <td>vp9</td>\n",
       "      <td>http_dash_segments</td>\n",
       "      <td>webm_dash</td>\n",
       "    </tr>\n",
       "    <tr>\n",
       "      <th>4</th>\n",
       "      <td>1019</td>\n",
       "      <td>283</td>\n",
       "      <td>368635</td>\n",
       "      <td>10828</td>\n",
       "      <td>71</td>\n",
       "      <td>none</td>\n",
       "      <td>1.653502e+06</td>\n",
       "      <td>278 - 256x144 (144s)</td>\n",
       "      <td>30</td>\n",
       "      <td>vp9</td>\n",
       "      <td>https</td>\n",
       "      <td>webm</td>\n",
       "    </tr>\n",
       "  </tbody>\n",
       "</table>\n",
       "</div>"
      ],
      "text/plain": [
       "   upload_date  duration  view_count  like_count  dislike_count acodec  \\\n",
       "0          643       192     8228858       69494           9641   none   \n",
       "1          649       770         265           4              0   none   \n",
       "2         1479       151     4904563          41            107   none   \n",
       "3         1326       419      137335         648             71   none   \n",
       "4         1019       283      368635       10828             71   none   \n",
       "\n",
       "       filesize                format fps vcodec            protocol  \\\n",
       "0  5.190629e+05  278 - 256x144 (144s)  30    vp9               https   \n",
       "1  7.880943e+06  133 - 426x240 (240s)  30    vp9               https   \n",
       "2  1.940671e+06  278 - 256x144 (144s)  25    vp9               https   \n",
       "3  8.231800e+07  397 - 854x480 (480s)  25    vp9  http_dash_segments   \n",
       "4  1.653502e+06  278 - 256x144 (144s)  30    vp9               https   \n",
       "\n",
       "   container  \n",
       "0       webm  \n",
       "1       none  \n",
       "2       webm  \n",
       "3  webm_dash  \n",
       "4       webm  "
      ]
     },
     "execution_count": 16,
     "metadata": {},
     "output_type": "execute_result"
    }
   ],
   "source": [
    "new_dataCopula.head()"
   ]
  },
  {
   "cell_type": "markdown",
   "metadata": {},
   "source": [
    "# Save GAN models"
   ]
  },
  {
   "cell_type": "code",
   "execution_count": 17,
   "metadata": {},
   "outputs": [],
   "source": [
    "if not os.path.exists('models'):\n",
    "        os.makedirs('models')"
   ]
  },
  {
   "cell_type": "code",
   "execution_count": 18,
   "metadata": {},
   "outputs": [],
   "source": [
    "ct_model_path = os.path.join('models', \"{}_ct.pkl\".format(VIDEO_CAT))\n",
    "copula_model_path = os.path.join('models', \"{}_copula.pkl\".format(VIDEO_CAT))\n",
    "\n",
    "modelCTGAN.save(ct_model_path)\n",
    "modelCopulaGAN.save(copula_model_path)"
   ]
  },
  {
   "cell_type": "markdown",
   "metadata": {},
   "source": [
    "# Save generated output"
   ]
  },
  {
   "cell_type": "code",
   "execution_count": 19,
   "metadata": {},
   "outputs": [],
   "source": [
    "if not os.path.exists('output'):\n",
    "        os.makedirs('output')"
   ]
  },
  {
   "cell_type": "code",
   "execution_count": 20,
   "metadata": {},
   "outputs": [],
   "source": [
    "ct_data_path = os.path.join('output', \"{}_ct.csv\".format(VIDEO_CAT))\n",
    "copula_data_path = os.path.join('output', \"{}_copula.csv\".format(VIDEO_CAT))\n",
    "\n",
    "new_dataCT.to_csv(ct_data_path)\n",
    "new_dataCopula.to_csv(copula_data_path)"
   ]
  }
 ],
 "metadata": {
  "kernelspec": {
   "display_name": "Python 3",
   "language": "python",
   "name": "python3"
  },
  "language_info": {
   "codemirror_mode": {
    "name": "ipython",
    "version": 3
   },
   "file_extension": ".py",
   "mimetype": "text/x-python",
   "name": "python",
   "nbconvert_exporter": "python",
   "pygments_lexer": "ipython3",
   "version": "3.8.5"
  }
 },
 "nbformat": 4,
 "nbformat_minor": 4
}
