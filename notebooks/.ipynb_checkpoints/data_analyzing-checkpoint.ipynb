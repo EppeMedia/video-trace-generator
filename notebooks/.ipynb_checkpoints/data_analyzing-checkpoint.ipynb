{
 "cells": [
  {
   "cell_type": "markdown",
   "metadata": {},
   "source": [
    "# Data analyzing of the 360-degree videos"
   ]
  },
  {
   "cell_type": "code",
   "execution_count": 1,
   "metadata": {},
   "outputs": [],
   "source": [
    "import pandas as pd\n",
    "import numpy as np\n",
    "import matplotlib.pyplot as plt\n",
    "import json\n",
    "import glob\n",
    "from datetime import datetime\n",
    "import time"
   ]
  },
  {
   "cell_type": "code",
   "execution_count": 2,
   "metadata": {},
   "outputs": [],
   "source": [
    "# Configure panda to show all columns\n",
    "pd.set_option('display.max_columns', None)"
   ]
  },
  {
   "cell_type": "markdown",
   "metadata": {},
   "source": [
    "### Merging all the traces found"
   ]
  },
  {
   "cell_type": "code",
   "execution_count": 3,
   "metadata": {},
   "outputs": [],
   "source": [
    "path = './traces' # use your path\n",
    "all_files = glob.glob(path + \"/*.json\")\n",
    "\n",
    "li = []\n",
    "\n",
    "for filename in all_files:\n",
    "    df = pd.read_json(filename)\n",
    "    li.append(df)\n",
    "\n",
    "frame = pd.concat(li, ignore_index=True)"
   ]
  },
  {
   "cell_type": "code",
   "execution_count": 4,
   "metadata": {},
   "outputs": [
    {
     "name": "stderr",
     "output_type": "stream",
     "text": [
      "<ipython-input-4-262d4e5fef3c>:11: SettingWithCopyWarning: \n",
      "A value is trying to be set on a copy of a slice from a DataFrame\n",
      "\n",
      "See the caveats in the documentation: https://pandas.pydata.org/pandas-docs/stable/user_guide/indexing.html#returning-a-view-versus-a-copy\n",
      "  frame['upload_date'][i] =  days_since_upload\n"
     ]
    }
   ],
   "source": [
    "# Convert upload date (yyymmdd) to \"days since upload\"\n",
    "\n",
    "current_time = datetime.now().timestamp()\n",
    "\n",
    "for i in frame.index:\n",
    "    try:\n",
    "        upload_time = datetime.strptime(str(frame['upload_date'][i]), '%Y%m%d').timestamp()\n",
    "        ms_since_upload = current_time - upload_time\n",
    "        days_since_upload = ms_since_upload / 86400\n",
    "        \n",
    "        frame['upload_date'][i] =  days_since_upload\n",
    "    except:\n",
    "        pass"
   ]
  },
  {
   "cell_type": "markdown",
   "metadata": {},
   "source": [
    "### Inspect data"
   ]
  },
  {
   "cell_type": "code",
   "execution_count": 5,
   "metadata": {},
   "outputs": [
    {
     "data": {
      "text/html": [
       "<div>\n",
       "<style scoped>\n",
       "    .dataframe tbody tr th:only-of-type {\n",
       "        vertical-align: middle;\n",
       "    }\n",
       "\n",
       "    .dataframe tbody tr th {\n",
       "        vertical-align: top;\n",
       "    }\n",
       "\n",
       "    .dataframe thead th {\n",
       "        text-align: right;\n",
       "    }\n",
       "</style>\n",
       "<table border=\"1\" class=\"dataframe\">\n",
       "  <thead>\n",
       "    <tr style=\"text-align: right;\">\n",
       "      <th></th>\n",
       "      <th>id</th>\n",
       "      <th>uploader</th>\n",
       "      <th>uploader_id</th>\n",
       "      <th>uploader_url</th>\n",
       "      <th>channel_id</th>\n",
       "      <th>channel_url</th>\n",
       "      <th>upload_date</th>\n",
       "      <th>license</th>\n",
       "      <th>creator</th>\n",
       "      <th>title</th>\n",
       "      <th>alt_title</th>\n",
       "      <th>thumbnails</th>\n",
       "      <th>description</th>\n",
       "      <th>categories</th>\n",
       "      <th>tags</th>\n",
       "      <th>subtitles</th>\n",
       "      <th>automatic_captions</th>\n",
       "      <th>duration</th>\n",
       "      <th>age_limit</th>\n",
       "      <th>annotations</th>\n",
       "      <th>chapters</th>\n",
       "      <th>webpage_url</th>\n",
       "      <th>view_count</th>\n",
       "      <th>like_count</th>\n",
       "      <th>dislike_count</th>\n",
       "      <th>average_rating</th>\n",
       "      <th>formats</th>\n",
       "      <th>is_live</th>\n",
       "      <th>start_time</th>\n",
       "      <th>end_time</th>\n",
       "      <th>series</th>\n",
       "      <th>season_number</th>\n",
       "      <th>episode_number</th>\n",
       "      <th>track</th>\n",
       "      <th>artist</th>\n",
       "      <th>album</th>\n",
       "      <th>release_date</th>\n",
       "      <th>release_year</th>\n",
       "      <th>extractor</th>\n",
       "      <th>webpage_url_basename</th>\n",
       "      <th>extractor_key</th>\n",
       "      <th>playlist</th>\n",
       "      <th>playlist_index</th>\n",
       "      <th>thumbnail</th>\n",
       "      <th>display_id</th>\n",
       "      <th>requested_subtitles</th>\n",
       "      <th>requested_formats</th>\n",
       "      <th>format</th>\n",
       "      <th>format_id</th>\n",
       "      <th>width</th>\n",
       "      <th>height</th>\n",
       "      <th>resolution</th>\n",
       "      <th>fps</th>\n",
       "      <th>vcodec</th>\n",
       "      <th>vbr</th>\n",
       "      <th>stretched_ratio</th>\n",
       "      <th>acodec</th>\n",
       "      <th>abr</th>\n",
       "      <th>ext</th>\n",
       "      <th>fulltitle</th>\n",
       "      <th>_filename</th>\n",
       "      <th>format_note</th>\n",
       "      <th>preference</th>\n",
       "      <th>url</th>\n",
       "      <th>manifest_url</th>\n",
       "      <th>tbr</th>\n",
       "      <th>protocol</th>\n",
       "      <th>player_url</th>\n",
       "      <th>http_headers</th>\n",
       "    </tr>\n",
       "  </thead>\n",
       "  <tbody>\n",
       "    <tr>\n",
       "      <th>0</th>\n",
       "      <td>j_mpPi3oRMw</td>\n",
       "      <td>TycerVR 360 Videos</td>\n",
       "      <td>TycerX</td>\n",
       "      <td>http://www.youtube.com/user/TycerX</td>\n",
       "      <td>UC6AhuKHE0b2SdAnPUFpmFJQ</td>\n",
       "      <td>http://www.youtube.com/channel/UC6AhuKHE0b2SdA...</td>\n",
       "      <td>164</td>\n",
       "      <td>NaN</td>\n",
       "      <td>NaN</td>\n",
       "      <td>You're ESCAPING SIREN HEAD in 360/VR - Horror ...</td>\n",
       "      <td>NaN</td>\n",
       "      <td>[{'url': 'https://i.ytimg.com/vi/j_mpPi3oRMw/h...</td>\n",
       "      <td>You're ESCAPING SIREN HEAD, in 360/VR! You've ...</td>\n",
       "      <td>[Gaming]</td>\n",
       "      <td>[siren head 360, sirenhead 360, 360 degree sir...</td>\n",
       "      <td>{}</td>\n",
       "      <td>{}</td>\n",
       "      <td>444</td>\n",
       "      <td>0</td>\n",
       "      <td>NaN</td>\n",
       "      <td>NaN</td>\n",
       "      <td>https://www.youtube.com/watch?v=j_mpPi3oRMw</td>\n",
       "      <td>2739153</td>\n",
       "      <td>25246.0</td>\n",
       "      <td>2885.0</td>\n",
       "      <td>4.589777</td>\n",
       "      <td>[{'format_id': '249', 'url': 'https://r3---sn-...</td>\n",
       "      <td>NaN</td>\n",
       "      <td>NaT</td>\n",
       "      <td>NaT</td>\n",
       "      <td>NaN</td>\n",
       "      <td>NaN</td>\n",
       "      <td>NaN</td>\n",
       "      <td>NaN</td>\n",
       "      <td>NaN</td>\n",
       "      <td>NaN</td>\n",
       "      <td>NaN</td>\n",
       "      <td>NaN</td>\n",
       "      <td>youtube</td>\n",
       "      <td>watch</td>\n",
       "      <td>Youtube</td>\n",
       "      <td>NaN</td>\n",
       "      <td>NaN</td>\n",
       "      <td>https://i.ytimg.com/vi/j_mpPi3oRMw/maxresdefau...</td>\n",
       "      <td>j_mpPi3oRMw</td>\n",
       "      <td>NaN</td>\n",
       "      <td>[{'format_id': '305', 'url': 'https://r3---sn-...</td>\n",
       "      <td>305 - 3840x1920 (2160s60)+251 - audio only (tiny)</td>\n",
       "      <td>305+251</td>\n",
       "      <td>3840</td>\n",
       "      <td>1920</td>\n",
       "      <td>NaN</td>\n",
       "      <td>60</td>\n",
       "      <td>avc1.640034</td>\n",
       "      <td>NaN</td>\n",
       "      <td>NaN</td>\n",
       "      <td>opus</td>\n",
       "      <td>160.0</td>\n",
       "      <td>mp4</td>\n",
       "      <td>You're ESCAPING SIREN HEAD in 360/VR - Horror ...</td>\n",
       "      <td>You're ESCAPING SIREN HEAD in 360_VR - Horror ...</td>\n",
       "      <td>NaN</td>\n",
       "      <td>NaN</td>\n",
       "      <td>NaN</td>\n",
       "      <td>NaN</td>\n",
       "      <td>NaN</td>\n",
       "      <td>NaN</td>\n",
       "      <td>NaN</td>\n",
       "      <td>NaN</td>\n",
       "    </tr>\n",
       "    <tr>\n",
       "      <th>1</th>\n",
       "      <td>uBn7je492Ek</td>\n",
       "      <td>360 Vacation VR</td>\n",
       "      <td>UCOjj3ULJrkHBYDLHhti5K-w</td>\n",
       "      <td>http://www.youtube.com/channel/UCOjj3ULJrkHBYD...</td>\n",
       "      <td>UCOjj3ULJrkHBYDLHhti5K-w</td>\n",
       "      <td>http://www.youtube.com/channel/UCOjj3ULJrkHBYD...</td>\n",
       "      <td>146</td>\n",
       "      <td>NaN</td>\n",
       "      <td>NaN</td>\n",
       "      <td>🟩 360 video Dinosaur Google Chrome Dino Run Br...</td>\n",
       "      <td>NaN</td>\n",
       "      <td>[{'url': 'https://i.ytimg.com/vi/uBn7je492Ek/h...</td>\n",
       "      <td>Dino Jump &amp; Run Run of Google Chrome Browser G...</td>\n",
       "      <td>[Gaming]</td>\n",
       "      <td>[vr, 360, 3d, dino 3d, dino, virtual reality, ...</td>\n",
       "      <td>{}</td>\n",
       "      <td>{}</td>\n",
       "      <td>141</td>\n",
       "      <td>0</td>\n",
       "      <td>NaN</td>\n",
       "      <td>NaN</td>\n",
       "      <td>https://www.youtube.com/watch?v=uBn7je492Ek</td>\n",
       "      <td>1645916</td>\n",
       "      <td>11174.0</td>\n",
       "      <td>1763.0</td>\n",
       "      <td>4.454897</td>\n",
       "      <td>[{'format_id': '249', 'url': 'https://r4---sn-...</td>\n",
       "      <td>NaN</td>\n",
       "      <td>NaT</td>\n",
       "      <td>NaT</td>\n",
       "      <td>NaN</td>\n",
       "      <td>NaN</td>\n",
       "      <td>NaN</td>\n",
       "      <td>NaN</td>\n",
       "      <td>NaN</td>\n",
       "      <td>NaN</td>\n",
       "      <td>NaN</td>\n",
       "      <td>NaN</td>\n",
       "      <td>youtube</td>\n",
       "      <td>watch</td>\n",
       "      <td>Youtube</td>\n",
       "      <td>NaN</td>\n",
       "      <td>NaN</td>\n",
       "      <td>https://i.ytimg.com/vi_webp/uBn7je492Ek/maxres...</td>\n",
       "      <td>uBn7je492Ek</td>\n",
       "      <td>NaN</td>\n",
       "      <td>[{'format_id': '266', 'url': 'https://r4---sn-...</td>\n",
       "      <td>266 - 3840x2160 (2160s)+251 - audio only (tiny)</td>\n",
       "      <td>266+251</td>\n",
       "      <td>3840</td>\n",
       "      <td>2160</td>\n",
       "      <td>NaN</td>\n",
       "      <td>30</td>\n",
       "      <td>avc1.640033</td>\n",
       "      <td>NaN</td>\n",
       "      <td>NaN</td>\n",
       "      <td>opus</td>\n",
       "      <td>160.0</td>\n",
       "      <td>mp4</td>\n",
       "      <td>🟩 360 video Dinosaur Google Chrome Dino Run Br...</td>\n",
       "      <td>🟩 360 video Dinosaur Google Chrome Dino Run Br...</td>\n",
       "      <td>NaN</td>\n",
       "      <td>NaN</td>\n",
       "      <td>NaN</td>\n",
       "      <td>NaN</td>\n",
       "      <td>NaN</td>\n",
       "      <td>NaN</td>\n",
       "      <td>NaN</td>\n",
       "      <td>NaN</td>\n",
       "    </tr>\n",
       "  </tbody>\n",
       "</table>\n",
       "</div>"
      ],
      "text/plain": [
       "            id            uploader               uploader_id  \\\n",
       "0  j_mpPi3oRMw  TycerVR 360 Videos                    TycerX   \n",
       "1  uBn7je492Ek     360 Vacation VR  UCOjj3ULJrkHBYDLHhti5K-w   \n",
       "\n",
       "                                        uploader_url  \\\n",
       "0                 http://www.youtube.com/user/TycerX   \n",
       "1  http://www.youtube.com/channel/UCOjj3ULJrkHBYD...   \n",
       "\n",
       "                 channel_id  \\\n",
       "0  UC6AhuKHE0b2SdAnPUFpmFJQ   \n",
       "1  UCOjj3ULJrkHBYDLHhti5K-w   \n",
       "\n",
       "                                         channel_url  upload_date license  \\\n",
       "0  http://www.youtube.com/channel/UC6AhuKHE0b2SdA...          164     NaN   \n",
       "1  http://www.youtube.com/channel/UCOjj3ULJrkHBYD...          146     NaN   \n",
       "\n",
       "  creator                                              title alt_title  \\\n",
       "0     NaN  You're ESCAPING SIREN HEAD in 360/VR - Horror ...       NaN   \n",
       "1     NaN  🟩 360 video Dinosaur Google Chrome Dino Run Br...       NaN   \n",
       "\n",
       "                                          thumbnails  \\\n",
       "0  [{'url': 'https://i.ytimg.com/vi/j_mpPi3oRMw/h...   \n",
       "1  [{'url': 'https://i.ytimg.com/vi/uBn7je492Ek/h...   \n",
       "\n",
       "                                         description categories  \\\n",
       "0  You're ESCAPING SIREN HEAD, in 360/VR! You've ...   [Gaming]   \n",
       "1  Dino Jump & Run Run of Google Chrome Browser G...   [Gaming]   \n",
       "\n",
       "                                                tags subtitles  \\\n",
       "0  [siren head 360, sirenhead 360, 360 degree sir...        {}   \n",
       "1  [vr, 360, 3d, dino 3d, dino, virtual reality, ...        {}   \n",
       "\n",
       "  automatic_captions  duration  age_limit  annotations chapters  \\\n",
       "0                 {}       444          0          NaN      NaN   \n",
       "1                 {}       141          0          NaN      NaN   \n",
       "\n",
       "                                   webpage_url  view_count  like_count  \\\n",
       "0  https://www.youtube.com/watch?v=j_mpPi3oRMw     2739153     25246.0   \n",
       "1  https://www.youtube.com/watch?v=uBn7je492Ek     1645916     11174.0   \n",
       "\n",
       "   dislike_count  average_rating  \\\n",
       "0         2885.0        4.589777   \n",
       "1         1763.0        4.454897   \n",
       "\n",
       "                                             formats  is_live start_time  \\\n",
       "0  [{'format_id': '249', 'url': 'https://r3---sn-...      NaN        NaT   \n",
       "1  [{'format_id': '249', 'url': 'https://r4---sn-...      NaN        NaT   \n",
       "\n",
       "  end_time  series  season_number  episode_number track artist album  \\\n",
       "0      NaT     NaN            NaN             NaN   NaN    NaN   NaN   \n",
       "1      NaT     NaN            NaN             NaN   NaN    NaN   NaN   \n",
       "\n",
       "   release_date  release_year extractor webpage_url_basename extractor_key  \\\n",
       "0           NaN           NaN   youtube                watch       Youtube   \n",
       "1           NaN           NaN   youtube                watch       Youtube   \n",
       "\n",
       "   playlist  playlist_index  \\\n",
       "0       NaN             NaN   \n",
       "1       NaN             NaN   \n",
       "\n",
       "                                           thumbnail   display_id  \\\n",
       "0  https://i.ytimg.com/vi/j_mpPi3oRMw/maxresdefau...  j_mpPi3oRMw   \n",
       "1  https://i.ytimg.com/vi_webp/uBn7je492Ek/maxres...  uBn7je492Ek   \n",
       "\n",
       "   requested_subtitles                                  requested_formats  \\\n",
       "0                  NaN  [{'format_id': '305', 'url': 'https://r3---sn-...   \n",
       "1                  NaN  [{'format_id': '266', 'url': 'https://r4---sn-...   \n",
       "\n",
       "                                              format format_id  width  height  \\\n",
       "0  305 - 3840x1920 (2160s60)+251 - audio only (tiny)   305+251   3840    1920   \n",
       "1    266 - 3840x2160 (2160s)+251 - audio only (tiny)   266+251   3840    2160   \n",
       "\n",
       "   resolution  fps       vcodec  vbr  stretched_ratio acodec    abr  ext  \\\n",
       "0         NaN   60  avc1.640034  NaN              NaN   opus  160.0  mp4   \n",
       "1         NaN   30  avc1.640033  NaN              NaN   opus  160.0  mp4   \n",
       "\n",
       "                                           fulltitle  \\\n",
       "0  You're ESCAPING SIREN HEAD in 360/VR - Horror ...   \n",
       "1  🟩 360 video Dinosaur Google Chrome Dino Run Br...   \n",
       "\n",
       "                                           _filename format_note  preference  \\\n",
       "0  You're ESCAPING SIREN HEAD in 360_VR - Horror ...         NaN         NaN   \n",
       "1  🟩 360 video Dinosaur Google Chrome Dino Run Br...         NaN         NaN   \n",
       "\n",
       "   url manifest_url  tbr protocol  player_url http_headers  \n",
       "0  NaN          NaN  NaN      NaN         NaN          NaN  \n",
       "1  NaN          NaN  NaN      NaN         NaN          NaN  "
      ]
     },
     "execution_count": 5,
     "metadata": {},
     "output_type": "execute_result"
    }
   ],
   "source": [
    "frame.head(2)"
   ]
  },
  {
   "cell_type": "code",
   "execution_count": 6,
   "metadata": {},
   "outputs": [
    {
     "data": {
      "text/plain": [
       "1685"
      ]
     },
     "execution_count": 6,
     "metadata": {},
     "output_type": "execute_result"
    }
   ],
   "source": [
    "len(frame.id.unique())"
   ]
  },
  {
   "cell_type": "code",
   "execution_count": 7,
   "metadata": {},
   "outputs": [
    {
     "data": {
      "text/html": [
       "<div>\n",
       "<style scoped>\n",
       "    .dataframe tbody tr th:only-of-type {\n",
       "        vertical-align: middle;\n",
       "    }\n",
       "\n",
       "    .dataframe tbody tr th {\n",
       "        vertical-align: top;\n",
       "    }\n",
       "\n",
       "    .dataframe thead th {\n",
       "        text-align: right;\n",
       "    }\n",
       "</style>\n",
       "<table border=\"1\" class=\"dataframe\">\n",
       "  <thead>\n",
       "    <tr style=\"text-align: right;\">\n",
       "      <th></th>\n",
       "      <th>upload_date</th>\n",
       "      <th>duration</th>\n",
       "      <th>age_limit</th>\n",
       "      <th>annotations</th>\n",
       "      <th>view_count</th>\n",
       "      <th>like_count</th>\n",
       "      <th>dislike_count</th>\n",
       "      <th>average_rating</th>\n",
       "      <th>is_live</th>\n",
       "      <th>series</th>\n",
       "      <th>season_number</th>\n",
       "      <th>episode_number</th>\n",
       "      <th>release_date</th>\n",
       "      <th>release_year</th>\n",
       "      <th>playlist</th>\n",
       "      <th>playlist_index</th>\n",
       "      <th>requested_subtitles</th>\n",
       "      <th>width</th>\n",
       "      <th>height</th>\n",
       "      <th>resolution</th>\n",
       "      <th>fps</th>\n",
       "      <th>vbr</th>\n",
       "      <th>stretched_ratio</th>\n",
       "      <th>abr</th>\n",
       "      <th>preference</th>\n",
       "      <th>tbr</th>\n",
       "      <th>player_url</th>\n",
       "    </tr>\n",
       "  </thead>\n",
       "  <tbody>\n",
       "    <tr>\n",
       "      <th>count</th>\n",
       "      <td>2333.000000</td>\n",
       "      <td>2333.000000</td>\n",
       "      <td>2333.000000</td>\n",
       "      <td>0.0</td>\n",
       "      <td>2.333000e+03</td>\n",
       "      <td>2.243000e+03</td>\n",
       "      <td>2032.000000</td>\n",
       "      <td>2299.000000</td>\n",
       "      <td>3.0</td>\n",
       "      <td>0.0</td>\n",
       "      <td>0.0</td>\n",
       "      <td>0.0</td>\n",
       "      <td>0.0</td>\n",
       "      <td>0.0</td>\n",
       "      <td>0.0</td>\n",
       "      <td>0.0</td>\n",
       "      <td>0.0</td>\n",
       "      <td>2333.000000</td>\n",
       "      <td>2333.000000</td>\n",
       "      <td>0.0</td>\n",
       "      <td>2333.000000</td>\n",
       "      <td>0.0</td>\n",
       "      <td>0.0</td>\n",
       "      <td>2216.000000</td>\n",
       "      <td>0.0</td>\n",
       "      <td>3.000000</td>\n",
       "      <td>0.0</td>\n",
       "    </tr>\n",
       "    <tr>\n",
       "      <th>mean</th>\n",
       "      <td>691.507501</td>\n",
       "      <td>336.213030</td>\n",
       "      <td>0.077154</td>\n",
       "      <td>NaN</td>\n",
       "      <td>5.768300e+06</td>\n",
       "      <td>4.443042e+04</td>\n",
       "      <td>5689.959154</td>\n",
       "      <td>4.581046</td>\n",
       "      <td>1.0</td>\n",
       "      <td>NaN</td>\n",
       "      <td>NaN</td>\n",
       "      <td>NaN</td>\n",
       "      <td>NaN</td>\n",
       "      <td>NaN</td>\n",
       "      <td>NaN</td>\n",
       "      <td>NaN</td>\n",
       "      <td>NaN</td>\n",
       "      <td>3629.117017</td>\n",
       "      <td>1954.700386</td>\n",
       "      <td>NaN</td>\n",
       "      <td>35.994428</td>\n",
       "      <td>NaN</td>\n",
       "      <td>NaN</td>\n",
       "      <td>152.361011</td>\n",
       "      <td>NaN</td>\n",
       "      <td>4510.555000</td>\n",
       "      <td>NaN</td>\n",
       "    </tr>\n",
       "    <tr>\n",
       "      <th>std</th>\n",
       "      <td>650.567460</td>\n",
       "      <td>1062.744342</td>\n",
       "      <td>1.176185</td>\n",
       "      <td>NaN</td>\n",
       "      <td>1.414277e+07</td>\n",
       "      <td>1.018644e+05</td>\n",
       "      <td>18749.605167</td>\n",
       "      <td>0.412722</td>\n",
       "      <td>0.0</td>\n",
       "      <td>NaN</td>\n",
       "      <td>NaN</td>\n",
       "      <td>NaN</td>\n",
       "      <td>NaN</td>\n",
       "      <td>NaN</td>\n",
       "      <td>NaN</td>\n",
       "      <td>NaN</td>\n",
       "      <td>NaN</td>\n",
       "      <td>974.258570</td>\n",
       "      <td>574.752140</td>\n",
       "      <td>NaN</td>\n",
       "      <td>13.221898</td>\n",
       "      <td>NaN</td>\n",
       "      <td>NaN</td>\n",
       "      <td>14.045383</td>\n",
       "      <td>NaN</td>\n",
       "      <td>355.515553</td>\n",
       "      <td>NaN</td>\n",
       "    </tr>\n",
       "    <tr>\n",
       "      <th>min</th>\n",
       "      <td>7.000000</td>\n",
       "      <td>0.000000</td>\n",
       "      <td>0.000000</td>\n",
       "      <td>NaN</td>\n",
       "      <td>1.000000e+00</td>\n",
       "      <td>2.000000e+00</td>\n",
       "      <td>2.000000</td>\n",
       "      <td>1.000000</td>\n",
       "      <td>1.0</td>\n",
       "      <td>NaN</td>\n",
       "      <td>NaN</td>\n",
       "      <td>NaN</td>\n",
       "      <td>NaN</td>\n",
       "      <td>NaN</td>\n",
       "      <td>NaN</td>\n",
       "      <td>NaN</td>\n",
       "      <td>NaN</td>\n",
       "      <td>480.000000</td>\n",
       "      <td>480.000000</td>\n",
       "      <td>NaN</td>\n",
       "      <td>10.000000</td>\n",
       "      <td>NaN</td>\n",
       "      <td>NaN</td>\n",
       "      <td>128.000000</td>\n",
       "      <td>NaN</td>\n",
       "      <td>4100.041000</td>\n",
       "      <td>NaN</td>\n",
       "    </tr>\n",
       "    <tr>\n",
       "      <th>25%</th>\n",
       "      <td>83.000000</td>\n",
       "      <td>120.000000</td>\n",
       "      <td>0.000000</td>\n",
       "      <td>NaN</td>\n",
       "      <td>1.218600e+04</td>\n",
       "      <td>1.140000e+02</td>\n",
       "      <td>35.000000</td>\n",
       "      <td>4.433418</td>\n",
       "      <td>1.0</td>\n",
       "      <td>NaN</td>\n",
       "      <td>NaN</td>\n",
       "      <td>NaN</td>\n",
       "      <td>NaN</td>\n",
       "      <td>NaN</td>\n",
       "      <td>NaN</td>\n",
       "      <td>NaN</td>\n",
       "      <td>NaN</td>\n",
       "      <td>3840.000000</td>\n",
       "      <td>1920.000000</td>\n",
       "      <td>NaN</td>\n",
       "      <td>30.000000</td>\n",
       "      <td>NaN</td>\n",
       "      <td>NaN</td>\n",
       "      <td>160.000000</td>\n",
       "      <td>NaN</td>\n",
       "      <td>4407.926500</td>\n",
       "      <td>NaN</td>\n",
       "    </tr>\n",
       "    <tr>\n",
       "      <th>50%</th>\n",
       "      <td>465.000000</td>\n",
       "      <td>190.000000</td>\n",
       "      <td>0.000000</td>\n",
       "      <td>NaN</td>\n",
       "      <td>4.059380e+05</td>\n",
       "      <td>4.736000e+03</td>\n",
       "      <td>606.000000</td>\n",
       "      <td>4.647059</td>\n",
       "      <td>1.0</td>\n",
       "      <td>NaN</td>\n",
       "      <td>NaN</td>\n",
       "      <td>NaN</td>\n",
       "      <td>NaN</td>\n",
       "      <td>NaN</td>\n",
       "      <td>NaN</td>\n",
       "      <td>NaN</td>\n",
       "      <td>NaN</td>\n",
       "      <td>3840.000000</td>\n",
       "      <td>2048.000000</td>\n",
       "      <td>NaN</td>\n",
       "      <td>30.000000</td>\n",
       "      <td>NaN</td>\n",
       "      <td>NaN</td>\n",
       "      <td>160.000000</td>\n",
       "      <td>NaN</td>\n",
       "      <td>4715.812000</td>\n",
       "      <td>NaN</td>\n",
       "    </tr>\n",
       "    <tr>\n",
       "      <th>75%</th>\n",
       "      <td>1271.000000</td>\n",
       "      <td>325.000000</td>\n",
       "      <td>0.000000</td>\n",
       "      <td>NaN</td>\n",
       "      <td>5.545099e+06</td>\n",
       "      <td>4.413100e+04</td>\n",
       "      <td>5529.000000</td>\n",
       "      <td>4.840413</td>\n",
       "      <td>1.0</td>\n",
       "      <td>NaN</td>\n",
       "      <td>NaN</td>\n",
       "      <td>NaN</td>\n",
       "      <td>NaN</td>\n",
       "      <td>NaN</td>\n",
       "      <td>NaN</td>\n",
       "      <td>NaN</td>\n",
       "      <td>NaN</td>\n",
       "      <td>3840.000000</td>\n",
       "      <td>2160.000000</td>\n",
       "      <td>NaN</td>\n",
       "      <td>30.000000</td>\n",
       "      <td>NaN</td>\n",
       "      <td>NaN</td>\n",
       "      <td>160.000000</td>\n",
       "      <td>NaN</td>\n",
       "      <td>4715.812000</td>\n",
       "      <td>NaN</td>\n",
       "    </tr>\n",
       "    <tr>\n",
       "      <th>max</th>\n",
       "      <td>2104.000000</td>\n",
       "      <td>42900.000000</td>\n",
       "      <td>18.000000</td>\n",
       "      <td>NaN</td>\n",
       "      <td>2.155207e+08</td>\n",
       "      <td>1.137600e+06</td>\n",
       "      <td>634827.000000</td>\n",
       "      <td>5.000000</td>\n",
       "      <td>1.0</td>\n",
       "      <td>NaN</td>\n",
       "      <td>NaN</td>\n",
       "      <td>NaN</td>\n",
       "      <td>NaN</td>\n",
       "      <td>NaN</td>\n",
       "      <td>NaN</td>\n",
       "      <td>NaN</td>\n",
       "      <td>NaN</td>\n",
       "      <td>8640.000000</td>\n",
       "      <td>8192.000000</td>\n",
       "      <td>NaN</td>\n",
       "      <td>60.000000</td>\n",
       "      <td>NaN</td>\n",
       "      <td>NaN</td>\n",
       "      <td>256.000000</td>\n",
       "      <td>NaN</td>\n",
       "      <td>4715.812000</td>\n",
       "      <td>NaN</td>\n",
       "    </tr>\n",
       "  </tbody>\n",
       "</table>\n",
       "</div>"
      ],
      "text/plain": [
       "       upload_date      duration    age_limit  annotations    view_count  \\\n",
       "count  2333.000000   2333.000000  2333.000000          0.0  2.333000e+03   \n",
       "mean    691.507501    336.213030     0.077154          NaN  5.768300e+06   \n",
       "std     650.567460   1062.744342     1.176185          NaN  1.414277e+07   \n",
       "min       7.000000      0.000000     0.000000          NaN  1.000000e+00   \n",
       "25%      83.000000    120.000000     0.000000          NaN  1.218600e+04   \n",
       "50%     465.000000    190.000000     0.000000          NaN  4.059380e+05   \n",
       "75%    1271.000000    325.000000     0.000000          NaN  5.545099e+06   \n",
       "max    2104.000000  42900.000000    18.000000          NaN  2.155207e+08   \n",
       "\n",
       "         like_count  dislike_count  average_rating  is_live  series  \\\n",
       "count  2.243000e+03    2032.000000     2299.000000      3.0     0.0   \n",
       "mean   4.443042e+04    5689.959154        4.581046      1.0     NaN   \n",
       "std    1.018644e+05   18749.605167        0.412722      0.0     NaN   \n",
       "min    2.000000e+00       2.000000        1.000000      1.0     NaN   \n",
       "25%    1.140000e+02      35.000000        4.433418      1.0     NaN   \n",
       "50%    4.736000e+03     606.000000        4.647059      1.0     NaN   \n",
       "75%    4.413100e+04    5529.000000        4.840413      1.0     NaN   \n",
       "max    1.137600e+06  634827.000000        5.000000      1.0     NaN   \n",
       "\n",
       "       season_number  episode_number  release_date  release_year  playlist  \\\n",
       "count            0.0             0.0           0.0           0.0       0.0   \n",
       "mean             NaN             NaN           NaN           NaN       NaN   \n",
       "std              NaN             NaN           NaN           NaN       NaN   \n",
       "min              NaN             NaN           NaN           NaN       NaN   \n",
       "25%              NaN             NaN           NaN           NaN       NaN   \n",
       "50%              NaN             NaN           NaN           NaN       NaN   \n",
       "75%              NaN             NaN           NaN           NaN       NaN   \n",
       "max              NaN             NaN           NaN           NaN       NaN   \n",
       "\n",
       "       playlist_index  requested_subtitles        width       height  \\\n",
       "count             0.0                  0.0  2333.000000  2333.000000   \n",
       "mean              NaN                  NaN  3629.117017  1954.700386   \n",
       "std               NaN                  NaN   974.258570   574.752140   \n",
       "min               NaN                  NaN   480.000000   480.000000   \n",
       "25%               NaN                  NaN  3840.000000  1920.000000   \n",
       "50%               NaN                  NaN  3840.000000  2048.000000   \n",
       "75%               NaN                  NaN  3840.000000  2160.000000   \n",
       "max               NaN                  NaN  8640.000000  8192.000000   \n",
       "\n",
       "       resolution          fps  vbr  stretched_ratio          abr  preference  \\\n",
       "count         0.0  2333.000000  0.0              0.0  2216.000000         0.0   \n",
       "mean          NaN    35.994428  NaN              NaN   152.361011         NaN   \n",
       "std           NaN    13.221898  NaN              NaN    14.045383         NaN   \n",
       "min           NaN    10.000000  NaN              NaN   128.000000         NaN   \n",
       "25%           NaN    30.000000  NaN              NaN   160.000000         NaN   \n",
       "50%           NaN    30.000000  NaN              NaN   160.000000         NaN   \n",
       "75%           NaN    30.000000  NaN              NaN   160.000000         NaN   \n",
       "max           NaN    60.000000  NaN              NaN   256.000000         NaN   \n",
       "\n",
       "               tbr  player_url  \n",
       "count     3.000000         0.0  \n",
       "mean   4510.555000         NaN  \n",
       "std     355.515553         NaN  \n",
       "min    4100.041000         NaN  \n",
       "25%    4407.926500         NaN  \n",
       "50%    4715.812000         NaN  \n",
       "75%    4715.812000         NaN  \n",
       "max    4715.812000         NaN  "
      ]
     },
     "execution_count": 7,
     "metadata": {},
     "output_type": "execute_result"
    }
   ],
   "source": [
    "frame.describe()"
   ]
  },
  {
   "cell_type": "code",
   "execution_count": 8,
   "metadata": {
    "scrolled": true
   },
   "outputs": [
    {
     "name": "stdout",
     "output_type": "stream",
     "text": [
      "['id', 'uploader', 'uploader_id', 'uploader_url', 'channel_id', 'channel_url', 'upload_date', 'license', 'creator', 'title', 'alt_title', 'thumbnails', 'description', 'categories', 'tags', 'subtitles', 'automatic_captions', 'duration', 'age_limit', 'annotations', 'chapters', 'webpage_url', 'view_count', 'like_count', 'dislike_count', 'average_rating', 'formats', 'is_live', 'start_time', 'end_time', 'series', 'season_number', 'episode_number', 'track', 'artist', 'album', 'release_date', 'release_year', 'extractor', 'webpage_url_basename', 'extractor_key', 'playlist', 'playlist_index', 'thumbnail', 'display_id', 'requested_subtitles', 'requested_formats', 'format', 'format_id', 'width', 'height', 'resolution', 'fps', 'vcodec', 'vbr', 'stretched_ratio', 'acodec', 'abr', 'ext', 'fulltitle', '_filename']\n"
     ]
    }
   ],
   "source": [
    "print(df.columns.tolist())"
   ]
  },
  {
   "cell_type": "code",
   "execution_count": 9,
   "metadata": {},
   "outputs": [
    {
     "data": {
      "text/plain": [
       "15"
      ]
     },
     "execution_count": 9,
     "metadata": {},
     "output_type": "execute_result"
    }
   ],
   "source": [
    "len(frame['categories'].apply(sorted).transform(tuple).unique())"
   ]
  },
  {
   "cell_type": "code",
   "execution_count": 10,
   "metadata": {},
   "outputs": [],
   "source": [
    "categories = pd.DataFrame(frame['categories'].apply(sorted).transform(tuple).unique())"
   ]
  },
  {
   "cell_type": "code",
   "execution_count": 11,
   "metadata": {
    "scrolled": true
   },
   "outputs": [
    {
     "data": {
      "text/html": [
       "<div>\n",
       "<style scoped>\n",
       "    .dataframe tbody tr th:only-of-type {\n",
       "        vertical-align: middle;\n",
       "    }\n",
       "\n",
       "    .dataframe tbody tr th {\n",
       "        vertical-align: top;\n",
       "    }\n",
       "\n",
       "    .dataframe thead th {\n",
       "        text-align: right;\n",
       "    }\n",
       "</style>\n",
       "<table border=\"1\" class=\"dataframe\">\n",
       "  <thead>\n",
       "    <tr style=\"text-align: right;\">\n",
       "      <th></th>\n",
       "      <th>0</th>\n",
       "    </tr>\n",
       "  </thead>\n",
       "  <tbody>\n",
       "    <tr>\n",
       "      <th>0</th>\n",
       "      <td>(Gaming,)</td>\n",
       "    </tr>\n",
       "    <tr>\n",
       "      <th>1</th>\n",
       "      <td>(Film &amp; Animation,)</td>\n",
       "    </tr>\n",
       "    <tr>\n",
       "      <th>2</th>\n",
       "      <td>(People &amp; Blogs,)</td>\n",
       "    </tr>\n",
       "    <tr>\n",
       "      <th>3</th>\n",
       "      <td>(Entertainment,)</td>\n",
       "    </tr>\n",
       "    <tr>\n",
       "      <th>4</th>\n",
       "      <td>(Music,)</td>\n",
       "    </tr>\n",
       "    <tr>\n",
       "      <th>5</th>\n",
       "      <td>(Travel &amp; Events,)</td>\n",
       "    </tr>\n",
       "    <tr>\n",
       "      <th>6</th>\n",
       "      <td>(Pets &amp; Animals,)</td>\n",
       "    </tr>\n",
       "    <tr>\n",
       "      <th>7</th>\n",
       "      <td>(Autos &amp; Vehicles,)</td>\n",
       "    </tr>\n",
       "    <tr>\n",
       "      <th>8</th>\n",
       "      <td>(Sports,)</td>\n",
       "    </tr>\n",
       "    <tr>\n",
       "      <th>9</th>\n",
       "      <td>(Education,)</td>\n",
       "    </tr>\n",
       "    <tr>\n",
       "      <th>10</th>\n",
       "      <td>(Science &amp; Technology,)</td>\n",
       "    </tr>\n",
       "    <tr>\n",
       "      <th>11</th>\n",
       "      <td>(News &amp; Politics,)</td>\n",
       "    </tr>\n",
       "    <tr>\n",
       "      <th>12</th>\n",
       "      <td>(Nonprofits &amp; Activism,)</td>\n",
       "    </tr>\n",
       "    <tr>\n",
       "      <th>13</th>\n",
       "      <td>(Comedy,)</td>\n",
       "    </tr>\n",
       "    <tr>\n",
       "      <th>14</th>\n",
       "      <td>(Howto &amp; Style,)</td>\n",
       "    </tr>\n",
       "  </tbody>\n",
       "</table>\n",
       "</div>"
      ],
      "text/plain": [
       "                           0\n",
       "0                  (Gaming,)\n",
       "1        (Film & Animation,)\n",
       "2          (People & Blogs,)\n",
       "3           (Entertainment,)\n",
       "4                   (Music,)\n",
       "5         (Travel & Events,)\n",
       "6          (Pets & Animals,)\n",
       "7        (Autos & Vehicles,)\n",
       "8                  (Sports,)\n",
       "9               (Education,)\n",
       "10   (Science & Technology,)\n",
       "11        (News & Politics,)\n",
       "12  (Nonprofits & Activism,)\n",
       "13                 (Comedy,)\n",
       "14          (Howto & Style,)"
      ]
     },
     "execution_count": 11,
     "metadata": {},
     "output_type": "execute_result"
    }
   ],
   "source": [
    "categories"
   ]
  },
  {
   "cell_type": "code",
   "execution_count": 12,
   "metadata": {},
   "outputs": [],
   "source": [
    "grouped = frame.groupby(\"categories\")"
   ]
  },
  {
   "cell_type": "code",
   "execution_count": 13,
   "metadata": {},
   "outputs": [],
   "source": [
    "newFrame = frame['categories'].apply(sorted).transform(tuple)"
   ]
  },
  {
   "cell_type": "code",
   "execution_count": 14,
   "metadata": {},
   "outputs": [],
   "source": [
    "frame[\"tupleCat\"] = newFrame"
   ]
  },
  {
   "cell_type": "code",
   "execution_count": 15,
   "metadata": {},
   "outputs": [
    {
     "data": {
      "text/plain": [
       "0                     (Gaming,)\n",
       "1                     (Gaming,)\n",
       "2           (Film & Animation,)\n",
       "3                     (Gaming,)\n",
       "4                     (Gaming,)\n",
       "                 ...           \n",
       "2328               (Education,)\n",
       "2329        (Film & Animation,)\n",
       "2330    (Science & Technology,)\n",
       "2331                  (Gaming,)\n",
       "2332           (Entertainment,)\n",
       "Name: tupleCat, Length: 2333, dtype: object"
      ]
     },
     "execution_count": 15,
     "metadata": {},
     "output_type": "execute_result"
    }
   ],
   "source": [
    "frame[\"tupleCat\"]"
   ]
  },
  {
   "cell_type": "code",
   "execution_count": 16,
   "metadata": {},
   "outputs": [
    {
     "data": {
      "text/plain": [
       "tupleCat\n",
       "(Autos & Vehicles,)          69\n",
       "(Comedy,)                    13\n",
       "(Education,)                 61\n",
       "(Entertainment,)            397\n",
       "(Film & Animation,)         260\n",
       "(Gaming,)                   762\n",
       "(Howto & Style,)             12\n",
       "(Music,)                     88\n",
       "(News & Politics,)           29\n",
       "(Nonprofits & Activism,)      8\n",
       "(People & Blogs,)           198\n",
       "(Pets & Animals,)            21\n",
       "(Science & Technology,)      86\n",
       "(Sports,)                   112\n",
       "(Travel & Events,)          217\n",
       "Name: id, dtype: int64"
      ]
     },
     "execution_count": 16,
     "metadata": {},
     "output_type": "execute_result"
    }
   ],
   "source": [
    "frame.groupby(\"tupleCat\").agg(\"count\")[\"id\"]"
   ]
  },
  {
   "cell_type": "markdown",
   "metadata": {},
   "source": [
    "## Plotting relations between categories and other characteristics"
   ]
  },
  {
   "cell_type": "markdown",
   "metadata": {},
   "source": [
    "### Upload date"
   ]
  },
  {
   "cell_type": "code",
   "execution_count": 17,
   "metadata": {
    "scrolled": true
   },
   "outputs": [
    {
     "data": {
      "text/plain": [
       "[<matplotlib.axis.YTick at 0x7f8915a156a0>,\n",
       " <matplotlib.axis.YTick at 0x7f8915a15280>,\n",
       " <matplotlib.axis.YTick at 0x7f8915a010a0>,\n",
       " <matplotlib.axis.YTick at 0x7f8915a6ea00>,\n",
       " <matplotlib.axis.YTick at 0x7f8915a6e7c0>]"
      ]
     },
     "execution_count": 17,
     "metadata": {},
     "output_type": "execute_result"
    },
    {
     "data": {
      "image/png": "[encoded data removed]",
      "text/plain": [
       "<Figure size 1440x720 with 1 Axes>"
      ]
     },
     "metadata": {
      "needs_background": "light"
     },
     "output_type": "display_data"
    }
   ],
   "source": [
    "fig, ax = plt.subplots(figsize=(20, 10))\n",
    "frame.explode('categories').boxplot(by='categories', column=['upload_date'], ax=ax, grid=False)\n",
    "\n",
    "ax.yaxis.grid(which='major', linestyle='-', linewidth='0.5', color='red')\n",
    "ax.get_yaxis().set_ticks([365, 730, 1095, 1460, 1825])"
   ]
  },
  {
   "cell_type": "markdown",
   "metadata": {},
   "source": [
    "### Popularity"
   ]
  },
  {
   "cell_type": "markdown",
   "metadata": {},
   "source": [
    "#### Plot popularity"
   ]
  },
  {
   "cell_type": "markdown",
   "metadata": {},
   "source": [
    "Note: like/dislike ratio is not being used for calculating the popularity of a video (see paragraph under graphs)."
   ]
  },
  {
   "cell_type": "code",
   "execution_count": 18,
   "metadata": {},
   "outputs": [
    {
     "name": "stderr",
     "output_type": "stream",
     "text": [
      "<ipython-input-18-25ff2b57a10d>:15: SettingWithCopyWarning: \n",
      "A value is trying to be set on a copy of a slice from a DataFrame\n",
      "\n",
      "See the caveats in the documentation: https://pandas.pydata.org/pandas-docs/stable/user_guide/indexing.html#returning-a-view-versus-a-copy\n",
      "  frame['like_dislike_ratio'][i] = like_dislike_ratio\n",
      "<ipython-input-18-25ff2b57a10d>:16: SettingWithCopyWarning: \n",
      "A value is trying to be set on a copy of a slice from a DataFrame\n",
      "\n",
      "See the caveats in the documentation: https://pandas.pydata.org/pandas-docs/stable/user_guide/indexing.html#returning-a-view-versus-a-copy\n",
      "  frame['popularity'][i] =  popularity\n"
     ]
    }
   ],
   "source": [
    "# For each entry, calculate its popularity\n",
    "frame['popularity'] = 0.0 # initial float value\n",
    "frame['like_dislike_ratio'] = 0.0\n",
    "\n",
    "for i in frame.index:\n",
    "    view_count = frame['view_count'][i]\n",
    "    days_since_upload = frame['upload_date'][i]\n",
    "    like_count = frame['like_count'][i]\n",
    "    dislike_count = frame['dislike_count'][i]\n",
    "\n",
    "    like_dislike_ratio = like_count / dislike_count\n",
    "\n",
    "    popularity = (view_count / float(days_since_upload))# * like_dislike_ratio\n",
    "\n",
    "    frame['like_dislike_ratio'][i] = like_dislike_ratio\n",
    "    frame['popularity'][i] =  popularity"
   ]
  },
  {
   "cell_type": "code",
   "execution_count": 19,
   "metadata": {},
   "outputs": [
    {
     "data": {
      "image/png": "[encoded data removed]",
      "text/plain": [
       "<Figure size 1440x720 with 1 Axes>"
      ]
     },
     "metadata": {
      "needs_background": "light"
     },
     "output_type": "display_data"
    }
   ],
   "source": [
    "# Plot popularity\n",
    "\n",
    "fig, ax = plt.subplots(figsize=(20, 10))\n",
    "frame.explode('categories').boxplot(by='categories', column=['popularity'], ax=ax, grid=False, showfliers=False)\n",
    "\n",
    "ax.yaxis.grid(which='major', linestyle='-', linewidth='0.5', color='red')"
   ]
  },
  {
   "cell_type": "markdown",
   "metadata": {},
   "source": [
    "#### Plot like/dislike ratio"
   ]
  },
  {
   "cell_type": "code",
   "execution_count": 20,
   "metadata": {
    "scrolled": true
   },
   "outputs": [
    {
     "data": {
      "text/plain": [
       "[<matplotlib.axis.YTick at 0x7f8914fffb20>,\n",
       " <matplotlib.axis.YTick at 0x7f8914fff730>]"
      ]
     },
     "execution_count": 20,
     "metadata": {},
     "output_type": "execute_result"
    },
    {
     "data": {
      "image/png": "[encoded data removed]",
      "text/plain": [
       "<Figure size 1440x720 with 1 Axes>"
      ]
     },
     "metadata": {
      "needs_background": "light"
     },
     "output_type": "display_data"
    }
   ],
   "source": [
    "fig, ax = plt.subplots(figsize=(20, 10))\n",
    "frame.explode('categories').boxplot(by='categories', column=['like_dislike_ratio'], ax=ax, grid=False, showfliers=False)\n",
    "\n",
    "ax.yaxis.grid(which='major', linestyle='-', linewidth='0.5', color='red')\n",
    "ax.get_yaxis().set_ticks([1, 10])"
   ]
  },
  {
   "cell_type": "markdown",
   "metadata": {},
   "source": [
    "In the boxplot above, we find that the ratio between likes and dislikes on a video is hardly ever below 1. Therefore, we may conclude that viewers are more inclined to indicate which videos they like than to indicate which videos they dislike. And indeed, content creators usually encourage their audience to like their videos. Therefore, the ratio between likes and dislikes seems to be positively dominated by a relatively high number of likes.\n",
    "\n",
    "This means that the like/dislike ratio may overrepresent the positive perception and we must be careful with using this metric."
   ]
  },
  {
   "cell_type": "markdown",
   "metadata": {},
   "source": [
    "### Available representations"
   ]
  },
  {
   "cell_type": "markdown",
   "metadata": {},
   "source": [
    "## Note: we need to filter out the audio-only representations. We are only interested in representations with video (with or without audio?)"
   ]
  },
  {
   "cell_type": "markdown",
   "metadata": {},
   "source": [
    "#### Number of representations"
   ]
  },
  {
   "cell_type": "code",
   "execution_count": 21,
   "metadata": {
    "scrolled": true
   },
   "outputs": [
    {
     "data": {
      "image/png": "[encoded data removed]",
      "text/plain": [
       "<Figure size 1440x720 with 1 Axes>"
      ]
     },
     "metadata": {
      "needs_background": "light"
     },
     "output_type": "display_data"
    }
   ],
   "source": [
    "frame['available_representations'] = frame['formats'].str.len()\n",
    "\n",
    "fig, ax = plt.subplots(figsize=(20, 10))\n",
    "frame.explode('categories').boxplot(by='categories', column=['available_representations'], ax=ax, grid=False, showfliers=False)\n",
    "\n",
    "ax.yaxis.grid(which='major', linestyle='-', linewidth='0.5', color='red')"
   ]
  },
  {
   "cell_type": "code",
   "execution_count": 22,
   "metadata": {
    "scrolled": true
   },
   "outputs": [],
   "source": [
    "df1 = (pd.concat({i: pd.DataFrame(x) for i, x in frame.pop('formats').items()})\n",
    "         .reset_index(level=1, drop=True)\n",
    "         .join(frame, rsuffix='_shared')\n",
    "         .reset_index(drop=True))"
   ]
  },
  {
   "cell_type": "markdown",
   "metadata": {},
   "source": [
    "#### Average bitrate"
   ]
  },
  {
   "cell_type": "markdown",
   "metadata": {},
   "source": [
    "##### Note: this metric is incomplete; it takes into account audio-only streams as well. This pulls the median values down significantly."
   ]
  },
  {
   "cell_type": "code",
   "execution_count": 25,
   "metadata": {},
   "outputs": [
    {
     "name": "stderr",
     "output_type": "stream",
     "text": [
      "<ipython-input-25-71f7d4633b92>:13: SettingWithCopyWarning: \n",
      "A value is trying to be set on a copy of a slice from a DataFrame\n",
      "\n",
      "See the caveats in the documentation: https://pandas.pydata.org/pandas-docs/stable/user_guide/indexing.html#returning-a-view-versus-a-copy\n",
      "  df1['average_bitrate'][i] =  average_bitrate\n"
     ]
    }
   ],
   "source": [
    "# Create column for average bitrate (kbps)\n",
    "df1['average_bitrate'] = 0.0\n",
    "\n",
    "for i in df1.index:\n",
    "    try:\n",
    "        file_size_bytes = df1['filesize'][i]\n",
    "        file_size_bits = file_size_bytes * 8\n",
    "        \n",
    "        duration = df1['duration'][i]\n",
    "        \n",
    "        average_bitrate = file_size_bits / float(duration) / 1000 # average bitrate in kbps\n",
    "        \n",
    "        df1['average_bitrate'][i] =  average_bitrate\n",
    "    except:\n",
    "        pass"
   ]
  },
  {
   "cell_type": "code",
   "execution_count": 26,
   "metadata": {
    "scrolled": true
   },
   "outputs": [
    {
     "data": {
      "image/png": "[encoded data removed]",
      "text/plain": [
       "<Figure size 1440x720 with 1 Axes>"
      ]
     },
     "metadata": {
      "needs_background": "light"
     },
     "output_type": "display_data"
    }
   ],
   "source": [
    "fig, ax = plt.subplots(figsize=(20, 10))\n",
    "df1.explode('categories').boxplot(by='categories', column=['average_bitrate'], ax=ax, grid=False, showfliers=False)\n",
    "\n",
    "ax.yaxis.grid(which='major', linestyle='-', linewidth='0.5', color='red')"
   ]
  },
  {
   "cell_type": "markdown",
   "metadata": {},
   "source": [
    "#### File types"
   ]
  },
  {
   "cell_type": "code",
   "execution_count": 27,
   "metadata": {},
   "outputs": [
    {
     "data": {
      "text/plain": [
       "<pandas.core.groupby.generic.DataFrameGroupBy object at 0x7f8913aca490>"
      ]
     },
     "execution_count": 27,
     "metadata": {},
     "output_type": "execute_result"
    }
   ],
   "source": [
    "df1.groupby('categories')"
   ]
  },
  {
   "cell_type": "code",
   "execution_count": 28,
   "metadata": {
    "scrolled": true
   },
   "outputs": [
    {
     "data": {
      "text/plain": [
       "ext\n",
       "m4a      2461\n",
       "mp4     23957\n",
       "webm    25830\n",
       "Name: id, dtype: int64"
      ]
     },
     "execution_count": 28,
     "metadata": {},
     "output_type": "execute_result"
    }
   ],
   "source": [
    "df1.groupby('ext').agg('count')[\"id\"]"
   ]
  },
  {
   "cell_type": "markdown",
   "metadata": {},
   "source": [
    "#### Framerates"
   ]
  },
  {
   "cell_type": "code",
   "execution_count": 23,
   "metadata": {},
   "outputs": [
    {
     "data": {
      "image/png": "[encoded data removed]",
      "text/plain": [
       "<Figure size 1440x720 with 1 Axes>"
      ]
     },
     "metadata": {
      "needs_background": "light"
     },
     "output_type": "display_data"
    }
   ],
   "source": [
    "fig, ax = plt.subplots(figsize=(20, 10))\n",
    "df1.explode('categories').boxplot(by='categories', column=['fps'], ax=ax, grid=False, showfliers=True)\n",
    "\n",
    "ax.yaxis.grid(which='major', linestyle='-', linewidth='0.5', color='red')"
   ]
  },
  {
   "cell_type": "markdown",
   "metadata": {},
   "source": [
    "#### Durations"
   ]
  },
  {
   "cell_type": "code",
   "execution_count": 24,
   "metadata": {},
   "outputs": [
    {
     "data": {
      "image/png": "[encoded data removed]",
      "text/plain": [
       "<Figure size 1440x720 with 1 Axes>"
      ]
     },
     "metadata": {
      "needs_background": "light"
     },
     "output_type": "display_data"
    }
   ],
   "source": [
    "fig, ax = plt.subplots(figsize=(20, 10))\n",
    "df1.explode('categories').boxplot(by='categories', column=['duration'], ax=ax, grid=False, showfliers=False)\n",
    "\n",
    "ax.yaxis.grid(which='major', linestyle='-', linewidth='0.5', color='red')"
   ]
  },
  {
   "cell_type": "code",
   "execution_count": null,
   "metadata": {},
   "outputs": [],
   "source": []
  }
 ],
 "metadata": {
  "kernelspec": {
   "display_name": "Python 3",
   "language": "python",
   "name": "python3"
  },
  "language_info": {
   "codemirror_mode": {
    "name": "ipython",
    "version": 3
   },
   "file_extension": ".py",
   "mimetype": "text/x-python",
   "name": "python",
   "nbconvert_exporter": "python",
   "pygments_lexer": "ipython3",
   "version": "3.8.5"
  }
 },
 "nbformat": 4,
 "nbformat_minor": 4
}
