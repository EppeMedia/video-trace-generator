{
 "cells": [
  {
   "cell_type": "markdown",
   "metadata": {},
   "source": [
    "# Data analyzing of the 360-degree videos"
   ]
  },
  {
   "cell_type": "code",
   "execution_count": 1,
   "metadata": {},
   "outputs": [],
   "source": [
    "import pandas as pd\n",
    "import numpy as np\n",
    "import matplotlib.pyplot as plt\n",
    "import json\n",
    "import glob\n",
    "from datetime import datetime as datetime\n",
    "import time"
   ]
  },
  {
   "cell_type": "code",
   "execution_count": 2,
   "metadata": {},
   "outputs": [],
   "source": [
    "# Configure panda to show all columns\n",
    "pd.set_option('display.max_columns', None)"
   ]
  },
  {
   "cell_type": "markdown",
   "metadata": {},
   "source": [
    "### Merging all the traces found"
   ]
  },
  {
   "cell_type": "code",
   "execution_count": 3,
   "metadata": {
    "scrolled": true
   },
   "outputs": [],
   "source": [
    "path = './traces' # use your path\n",
    "all_files = glob.glob(path + \"/*.json\")\n",
    "\n",
    "li = []\n",
    "\n",
    "for filename in all_files:\n",
    "    df = pd.read_json(filename)\n",
    "    li.append(df)\n",
    "\n",
    "frame = pd.concat(li, ignore_index=True)"
   ]
  },
  {
   "cell_type": "code",
   "execution_count": 4,
   "metadata": {},
   "outputs": [
    {
     "name": "stderr",
     "output_type": "stream",
     "text": [
      "<ipython-input-4-262d4e5fef3c>:11: SettingWithCopyWarning: \n",
      "A value is trying to be set on a copy of a slice from a DataFrame\n",
      "\n",
      "See the caveats in the documentation: https://pandas.pydata.org/pandas-docs/stable/user_guide/indexing.html#returning-a-view-versus-a-copy\n",
      "  frame['upload_date'][i] =  days_since_upload\n"
     ]
    }
   ],
   "source": [
    "# Convert upload date (yyymmdd) to \"days since upload\"\n",
    "\n",
    "current_time = datetime.now().timestamp()\n",
    "\n",
    "for i in frame.index:\n",
    "    try:\n",
    "        upload_time = datetime.strptime(str(frame['upload_date'][i]), '%Y%m%d').timestamp()\n",
    "        ms_since_upload = current_time - upload_time\n",
    "        days_since_upload = ms_since_upload / 86400\n",
    "        \n",
    "        frame['upload_date'][i] =  days_since_upload\n",
    "    except:\n",
    "        pass"
   ]
  },
  {
   "cell_type": "markdown",
   "metadata": {},
   "source": [
    "### Inspect data"
   ]
  },
  {
   "cell_type": "code",
   "execution_count": 5,
   "metadata": {},
   "outputs": [
    {
     "data": {
      "text/html": [
       "<div>\n",
       "<style scoped>\n",
       "    .dataframe tbody tr th:only-of-type {\n",
       "        vertical-align: middle;\n",
       "    }\n",
       "\n",
       "    .dataframe tbody tr th {\n",
       "        vertical-align: top;\n",
       "    }\n",
       "\n",
       "    .dataframe thead th {\n",
       "        text-align: right;\n",
       "    }\n",
       "</style>\n",
       "<table border=\"1\" class=\"dataframe\">\n",
       "  <thead>\n",
       "    <tr style=\"text-align: right;\">\n",
       "      <th></th>\n",
       "      <th>id</th>\n",
       "      <th>uploader</th>\n",
       "      <th>uploader_id</th>\n",
       "      <th>uploader_url</th>\n",
       "      <th>channel_id</th>\n",
       "      <th>channel_url</th>\n",
       "      <th>upload_date</th>\n",
       "      <th>license</th>\n",
       "      <th>creator</th>\n",
       "      <th>title</th>\n",
       "      <th>alt_title</th>\n",
       "      <th>thumbnails</th>\n",
       "      <th>description</th>\n",
       "      <th>categories</th>\n",
       "      <th>tags</th>\n",
       "      <th>subtitles</th>\n",
       "      <th>automatic_captions</th>\n",
       "      <th>duration</th>\n",
       "      <th>age_limit</th>\n",
       "      <th>annotations</th>\n",
       "      <th>chapters</th>\n",
       "      <th>webpage_url</th>\n",
       "      <th>view_count</th>\n",
       "      <th>like_count</th>\n",
       "      <th>dislike_count</th>\n",
       "      <th>average_rating</th>\n",
       "      <th>formats</th>\n",
       "      <th>is_live</th>\n",
       "      <th>start_time</th>\n",
       "      <th>end_time</th>\n",
       "      <th>series</th>\n",
       "      <th>season_number</th>\n",
       "      <th>episode_number</th>\n",
       "      <th>track</th>\n",
       "      <th>artist</th>\n",
       "      <th>album</th>\n",
       "      <th>release_date</th>\n",
       "      <th>release_year</th>\n",
       "      <th>extractor</th>\n",
       "      <th>webpage_url_basename</th>\n",
       "      <th>extractor_key</th>\n",
       "      <th>playlist</th>\n",
       "      <th>playlist_index</th>\n",
       "      <th>thumbnail</th>\n",
       "      <th>display_id</th>\n",
       "      <th>requested_subtitles</th>\n",
       "      <th>requested_formats</th>\n",
       "      <th>format</th>\n",
       "      <th>format_id</th>\n",
       "      <th>width</th>\n",
       "      <th>height</th>\n",
       "      <th>resolution</th>\n",
       "      <th>fps</th>\n",
       "      <th>vcodec</th>\n",
       "      <th>vbr</th>\n",
       "      <th>stretched_ratio</th>\n",
       "      <th>acodec</th>\n",
       "      <th>abr</th>\n",
       "      <th>ext</th>\n",
       "      <th>fulltitle</th>\n",
       "      <th>_filename</th>\n",
       "      <th>format_note</th>\n",
       "      <th>preference</th>\n",
       "      <th>url</th>\n",
       "      <th>manifest_url</th>\n",
       "      <th>tbr</th>\n",
       "      <th>protocol</th>\n",
       "      <th>player_url</th>\n",
       "      <th>http_headers</th>\n",
       "    </tr>\n",
       "  </thead>\n",
       "  <tbody>\n",
       "    <tr>\n",
       "      <th>0</th>\n",
       "      <td>DXIB8ShnteY</td>\n",
       "      <td>PierreG ASMR</td>\n",
       "      <td>UCaVRk90IytEpDyw9hWNlq6g</td>\n",
       "      <td>http://www.youtube.com/channel/UCaVRk90IytEpDy...</td>\n",
       "      <td>UCaVRk90IytEpDyw9hWNlq6g</td>\n",
       "      <td>http://www.youtube.com/channel/UCaVRk90IytEpDy...</td>\n",
       "      <td>40</td>\n",
       "      <td>NaN</td>\n",
       "      <td>NaN</td>\n",
       "      <td>Is THAT really you 😲?! ASMR 360 VR</td>\n",
       "      <td>NaN</td>\n",
       "      <td>[{'url': 'https://i.ytimg.com/vi/DXIB8ShnteY/h...</td>\n",
       "      <td>Boss told me to find you so I did. But I'm not...</td>\n",
       "      <td>[Entertainment]</td>\n",
       "      <td>[asmr, 360, VR, virtual reality, is that reall...</td>\n",
       "      <td>{}</td>\n",
       "      <td>{}</td>\n",
       "      <td>646</td>\n",
       "      <td>0</td>\n",
       "      <td>NaN</td>\n",
       "      <td>NaN</td>\n",
       "      <td>https://www.youtube.com/watch?v=DXIB8ShnteY</td>\n",
       "      <td>71144</td>\n",
       "      <td>3550.0</td>\n",
       "      <td>64.0</td>\n",
       "      <td>4.929164</td>\n",
       "      <td>[{'format_id': '249', 'url': 'https://r6---sn-...</td>\n",
       "      <td>NaN</td>\n",
       "      <td>NaT</td>\n",
       "      <td>NaT</td>\n",
       "      <td>NaN</td>\n",
       "      <td>NaN</td>\n",
       "      <td>NaN</td>\n",
       "      <td>NaN</td>\n",
       "      <td>NaN</td>\n",
       "      <td>NaN</td>\n",
       "      <td>NaN</td>\n",
       "      <td>NaN</td>\n",
       "      <td>youtube</td>\n",
       "      <td>watch</td>\n",
       "      <td>Youtube</td>\n",
       "      <td>NaN</td>\n",
       "      <td>NaN</td>\n",
       "      <td>https://i.ytimg.com/vi/DXIB8ShnteY/maxresdefau...</td>\n",
       "      <td>DXIB8ShnteY</td>\n",
       "      <td>NaN</td>\n",
       "      <td>[{'format_id': '266', 'url': 'https://r6---sn-...</td>\n",
       "      <td>266 - 3840x2160 (2160s)+251 - audio only (tiny)</td>\n",
       "      <td>266+251</td>\n",
       "      <td>3840</td>\n",
       "      <td>2160</td>\n",
       "      <td>NaN</td>\n",
       "      <td>30</td>\n",
       "      <td>avc1.640033</td>\n",
       "      <td>NaN</td>\n",
       "      <td>NaN</td>\n",
       "      <td>opus</td>\n",
       "      <td>160.0</td>\n",
       "      <td>mp4</td>\n",
       "      <td>Is THAT really you 😲?! ASMR 360 VR</td>\n",
       "      <td>Is THAT really you 😲! ASMR 360 VR-DXIB8ShnteY.mp4</td>\n",
       "      <td>NaN</td>\n",
       "      <td>NaN</td>\n",
       "      <td>NaN</td>\n",
       "      <td>NaN</td>\n",
       "      <td>NaN</td>\n",
       "      <td>NaN</td>\n",
       "      <td>NaN</td>\n",
       "      <td>NaN</td>\n",
       "    </tr>\n",
       "    <tr>\n",
       "      <th>1</th>\n",
       "      <td>D9gRJlxJ2iI</td>\n",
       "      <td>VR Gorilla - Virtual Reality &amp; 360 Videos</td>\n",
       "      <td>UC6AXBF-78lNa3_TjAIWZWmQ</td>\n",
       "      <td>http://www.youtube.com/channel/UC6AXBF-78lNa3_...</td>\n",
       "      <td>UC6AXBF-78lNa3_TjAIWZWmQ</td>\n",
       "      <td>http://www.youtube.com/channel/UC6AXBF-78lNa3_...</td>\n",
       "      <td>1422</td>\n",
       "      <td>NaN</td>\n",
       "      <td>NaN</td>\n",
       "      <td>Travel Cuba in 360 degrees VR - Episode 2: Hav...</td>\n",
       "      <td>NaN</td>\n",
       "      <td>[{'url': 'https://i.ytimg.com/vi/D9gRJlxJ2iI/h...</td>\n",
       "      <td>Join VR Gorilla and JetBlue Airways on a trip ...</td>\n",
       "      <td>[Travel &amp; Events]</td>\n",
       "      <td>[virtual reality, cuba, havana, 360, 360 video...</td>\n",
       "      <td>{}</td>\n",
       "      <td>{}</td>\n",
       "      <td>174</td>\n",
       "      <td>0</td>\n",
       "      <td>NaN</td>\n",
       "      <td>NaN</td>\n",
       "      <td>https://www.youtube.com/watch?v=D9gRJlxJ2iI</td>\n",
       "      <td>111770</td>\n",
       "      <td>349.0</td>\n",
       "      <td>42.0</td>\n",
       "      <td>4.570333</td>\n",
       "      <td>[{'format_id': '249', 'url': 'https://r3---sn-...</td>\n",
       "      <td>NaN</td>\n",
       "      <td>NaT</td>\n",
       "      <td>NaT</td>\n",
       "      <td>NaN</td>\n",
       "      <td>NaN</td>\n",
       "      <td>NaN</td>\n",
       "      <td>NaN</td>\n",
       "      <td>NaN</td>\n",
       "      <td>NaN</td>\n",
       "      <td>NaN</td>\n",
       "      <td>NaN</td>\n",
       "      <td>youtube</td>\n",
       "      <td>watch</td>\n",
       "      <td>Youtube</td>\n",
       "      <td>NaN</td>\n",
       "      <td>NaN</td>\n",
       "      <td>https://i.ytimg.com/vi_webp/D9gRJlxJ2iI/maxres...</td>\n",
       "      <td>D9gRJlxJ2iI</td>\n",
       "      <td>NaN</td>\n",
       "      <td>[{'format_id': '266', 'url': 'https://r3---sn-...</td>\n",
       "      <td>266 - 3840x2048 (2160s)+251 - audio only (tiny)</td>\n",
       "      <td>266+251</td>\n",
       "      <td>3840</td>\n",
       "      <td>2048</td>\n",
       "      <td>NaN</td>\n",
       "      <td>30</td>\n",
       "      <td>avc1.640033</td>\n",
       "      <td>NaN</td>\n",
       "      <td>NaN</td>\n",
       "      <td>opus</td>\n",
       "      <td>160.0</td>\n",
       "      <td>mp4</td>\n",
       "      <td>Travel Cuba in 360 degrees VR - Episode 2: Hav...</td>\n",
       "      <td>Travel Cuba in 360 degrees VR - Episode 2 - Ha...</td>\n",
       "      <td>NaN</td>\n",
       "      <td>NaN</td>\n",
       "      <td>NaN</td>\n",
       "      <td>NaN</td>\n",
       "      <td>NaN</td>\n",
       "      <td>NaN</td>\n",
       "      <td>NaN</td>\n",
       "      <td>NaN</td>\n",
       "    </tr>\n",
       "  </tbody>\n",
       "</table>\n",
       "</div>"
      ],
      "text/plain": [
       "            id                                   uploader  \\\n",
       "0  DXIB8ShnteY                               PierreG ASMR   \n",
       "1  D9gRJlxJ2iI  VR Gorilla - Virtual Reality & 360 Videos   \n",
       "\n",
       "                uploader_id  \\\n",
       "0  UCaVRk90IytEpDyw9hWNlq6g   \n",
       "1  UC6AXBF-78lNa3_TjAIWZWmQ   \n",
       "\n",
       "                                        uploader_url  \\\n",
       "0  http://www.youtube.com/channel/UCaVRk90IytEpDy...   \n",
       "1  http://www.youtube.com/channel/UC6AXBF-78lNa3_...   \n",
       "\n",
       "                 channel_id  \\\n",
       "0  UCaVRk90IytEpDyw9hWNlq6g   \n",
       "1  UC6AXBF-78lNa3_TjAIWZWmQ   \n",
       "\n",
       "                                         channel_url  upload_date license  \\\n",
       "0  http://www.youtube.com/channel/UCaVRk90IytEpDy...           40     NaN   \n",
       "1  http://www.youtube.com/channel/UC6AXBF-78lNa3_...         1422     NaN   \n",
       "\n",
       "  creator                                              title alt_title  \\\n",
       "0     NaN                 Is THAT really you 😲?! ASMR 360 VR       NaN   \n",
       "1     NaN  Travel Cuba in 360 degrees VR - Episode 2: Hav...       NaN   \n",
       "\n",
       "                                          thumbnails  \\\n",
       "0  [{'url': 'https://i.ytimg.com/vi/DXIB8ShnteY/h...   \n",
       "1  [{'url': 'https://i.ytimg.com/vi/D9gRJlxJ2iI/h...   \n",
       "\n",
       "                                         description         categories  \\\n",
       "0  Boss told me to find you so I did. But I'm not...    [Entertainment]   \n",
       "1  Join VR Gorilla and JetBlue Airways on a trip ...  [Travel & Events]   \n",
       "\n",
       "                                                tags subtitles  \\\n",
       "0  [asmr, 360, VR, virtual reality, is that reall...        {}   \n",
       "1  [virtual reality, cuba, havana, 360, 360 video...        {}   \n",
       "\n",
       "  automatic_captions  duration  age_limit  annotations chapters  \\\n",
       "0                 {}       646          0          NaN      NaN   \n",
       "1                 {}       174          0          NaN      NaN   \n",
       "\n",
       "                                   webpage_url  view_count  like_count  \\\n",
       "0  https://www.youtube.com/watch?v=DXIB8ShnteY       71144      3550.0   \n",
       "1  https://www.youtube.com/watch?v=D9gRJlxJ2iI      111770       349.0   \n",
       "\n",
       "   dislike_count  average_rating  \\\n",
       "0           64.0        4.929164   \n",
       "1           42.0        4.570333   \n",
       "\n",
       "                                             formats  is_live start_time  \\\n",
       "0  [{'format_id': '249', 'url': 'https://r6---sn-...      NaN        NaT   \n",
       "1  [{'format_id': '249', 'url': 'https://r3---sn-...      NaN        NaT   \n",
       "\n",
       "  end_time  series  season_number  episode_number track artist album  \\\n",
       "0      NaT     NaN            NaN             NaN   NaN    NaN   NaN   \n",
       "1      NaT     NaN            NaN             NaN   NaN    NaN   NaN   \n",
       "\n",
       "   release_date  release_year extractor webpage_url_basename extractor_key  \\\n",
       "0           NaN           NaN   youtube                watch       Youtube   \n",
       "1           NaN           NaN   youtube                watch       Youtube   \n",
       "\n",
       "   playlist  playlist_index  \\\n",
       "0       NaN             NaN   \n",
       "1       NaN             NaN   \n",
       "\n",
       "                                           thumbnail   display_id  \\\n",
       "0  https://i.ytimg.com/vi/DXIB8ShnteY/maxresdefau...  DXIB8ShnteY   \n",
       "1  https://i.ytimg.com/vi_webp/D9gRJlxJ2iI/maxres...  D9gRJlxJ2iI   \n",
       "\n",
       "   requested_subtitles                                  requested_formats  \\\n",
       "0                  NaN  [{'format_id': '266', 'url': 'https://r6---sn-...   \n",
       "1                  NaN  [{'format_id': '266', 'url': 'https://r3---sn-...   \n",
       "\n",
       "                                            format format_id  width  height  \\\n",
       "0  266 - 3840x2160 (2160s)+251 - audio only (tiny)   266+251   3840    2160   \n",
       "1  266 - 3840x2048 (2160s)+251 - audio only (tiny)   266+251   3840    2048   \n",
       "\n",
       "   resolution  fps       vcodec  vbr  stretched_ratio acodec    abr  ext  \\\n",
       "0         NaN   30  avc1.640033  NaN              NaN   opus  160.0  mp4   \n",
       "1         NaN   30  avc1.640033  NaN              NaN   opus  160.0  mp4   \n",
       "\n",
       "                                           fulltitle  \\\n",
       "0                 Is THAT really you 😲?! ASMR 360 VR   \n",
       "1  Travel Cuba in 360 degrees VR - Episode 2: Hav...   \n",
       "\n",
       "                                           _filename format_note  preference  \\\n",
       "0  Is THAT really you 😲! ASMR 360 VR-DXIB8ShnteY.mp4         NaN         NaN   \n",
       "1  Travel Cuba in 360 degrees VR - Episode 2 - Ha...         NaN         NaN   \n",
       "\n",
       "   url manifest_url  tbr protocol  player_url http_headers  \n",
       "0  NaN          NaN  NaN      NaN         NaN          NaN  \n",
       "1  NaN          NaN  NaN      NaN         NaN          NaN  "
      ]
     },
     "execution_count": 5,
     "metadata": {},
     "output_type": "execute_result"
    }
   ],
   "source": [
    "frame.head(2)"
   ]
  },
  {
   "cell_type": "code",
   "execution_count": 6,
   "metadata": {},
   "outputs": [
    {
     "data": {
      "text/plain": [
       "2298"
      ]
     },
     "execution_count": 6,
     "metadata": {},
     "output_type": "execute_result"
    }
   ],
   "source": [
    "len(frame.id.unique())"
   ]
  },
  {
   "cell_type": "code",
   "execution_count": 7,
   "metadata": {},
   "outputs": [
    {
     "data": {
      "text/html": [
       "<div>\n",
       "<style scoped>\n",
       "    .dataframe tbody tr th:only-of-type {\n",
       "        vertical-align: middle;\n",
       "    }\n",
       "\n",
       "    .dataframe tbody tr th {\n",
       "        vertical-align: top;\n",
       "    }\n",
       "\n",
       "    .dataframe thead th {\n",
       "        text-align: right;\n",
       "    }\n",
       "</style>\n",
       "<table border=\"1\" class=\"dataframe\">\n",
       "  <thead>\n",
       "    <tr style=\"text-align: right;\">\n",
       "      <th></th>\n",
       "      <th>upload_date</th>\n",
       "      <th>duration</th>\n",
       "      <th>age_limit</th>\n",
       "      <th>annotations</th>\n",
       "      <th>view_count</th>\n",
       "      <th>like_count</th>\n",
       "      <th>dislike_count</th>\n",
       "      <th>average_rating</th>\n",
       "      <th>is_live</th>\n",
       "      <th>series</th>\n",
       "      <th>season_number</th>\n",
       "      <th>episode_number</th>\n",
       "      <th>release_date</th>\n",
       "      <th>release_year</th>\n",
       "      <th>playlist</th>\n",
       "      <th>playlist_index</th>\n",
       "      <th>requested_subtitles</th>\n",
       "      <th>width</th>\n",
       "      <th>height</th>\n",
       "      <th>resolution</th>\n",
       "      <th>fps</th>\n",
       "      <th>vbr</th>\n",
       "      <th>stretched_ratio</th>\n",
       "      <th>abr</th>\n",
       "      <th>preference</th>\n",
       "      <th>tbr</th>\n",
       "      <th>player_url</th>\n",
       "    </tr>\n",
       "  </thead>\n",
       "  <tbody>\n",
       "    <tr>\n",
       "      <th>count</th>\n",
       "      <td>2946.000000</td>\n",
       "      <td>2946.000000</td>\n",
       "      <td>2946.000000</td>\n",
       "      <td>0.0</td>\n",
       "      <td>2.946000e+03</td>\n",
       "      <td>2.758000e+03</td>\n",
       "      <td>2394.000000</td>\n",
       "      <td>2826.000000</td>\n",
       "      <td>3.0</td>\n",
       "      <td>0.0</td>\n",
       "      <td>0.0</td>\n",
       "      <td>0.0</td>\n",
       "      <td>0.0</td>\n",
       "      <td>0.0</td>\n",
       "      <td>0.0</td>\n",
       "      <td>0.0</td>\n",
       "      <td>0.0</td>\n",
       "      <td>2946.000000</td>\n",
       "      <td>2946.000000</td>\n",
       "      <td>0.0</td>\n",
       "      <td>2946.000000</td>\n",
       "      <td>0.0</td>\n",
       "      <td>0.0</td>\n",
       "      <td>2782.000000</td>\n",
       "      <td>0.0</td>\n",
       "      <td>3.000000</td>\n",
       "      <td>0.0</td>\n",
       "    </tr>\n",
       "    <tr>\n",
       "      <th>mean</th>\n",
       "      <td>753.194501</td>\n",
       "      <td>363.051935</td>\n",
       "      <td>0.073320</td>\n",
       "      <td>NaN</td>\n",
       "      <td>4.609322e+06</td>\n",
       "      <td>3.663658e+04</td>\n",
       "      <td>4877.703843</td>\n",
       "      <td>4.588338</td>\n",
       "      <td>1.0</td>\n",
       "      <td>NaN</td>\n",
       "      <td>NaN</td>\n",
       "      <td>NaN</td>\n",
       "      <td>NaN</td>\n",
       "      <td>NaN</td>\n",
       "      <td>NaN</td>\n",
       "      <td>NaN</td>\n",
       "      <td>NaN</td>\n",
       "      <td>3606.580448</td>\n",
       "      <td>1942.510523</td>\n",
       "      <td>NaN</td>\n",
       "      <td>34.916497</td>\n",
       "      <td>NaN</td>\n",
       "      <td>NaN</td>\n",
       "      <td>151.189073</td>\n",
       "      <td>NaN</td>\n",
       "      <td>4510.555000</td>\n",
       "      <td>NaN</td>\n",
       "    </tr>\n",
       "    <tr>\n",
       "      <th>std</th>\n",
       "      <td>642.690270</td>\n",
       "      <td>1067.068891</td>\n",
       "      <td>1.146659</td>\n",
       "      <td>NaN</td>\n",
       "      <td>1.279300e+07</td>\n",
       "      <td>9.344001e+04</td>\n",
       "      <td>17386.757771</td>\n",
       "      <td>0.435597</td>\n",
       "      <td>0.0</td>\n",
       "      <td>NaN</td>\n",
       "      <td>NaN</td>\n",
       "      <td>NaN</td>\n",
       "      <td>NaN</td>\n",
       "      <td>NaN</td>\n",
       "      <td>NaN</td>\n",
       "      <td>NaN</td>\n",
       "      <td>NaN</td>\n",
       "      <td>1010.419489</td>\n",
       "      <td>609.748291</td>\n",
       "      <td>NaN</td>\n",
       "      <td>12.625189</td>\n",
       "      <td>NaN</td>\n",
       "      <td>NaN</td>\n",
       "      <td>14.602322</td>\n",
       "      <td>NaN</td>\n",
       "      <td>355.515553</td>\n",
       "      <td>NaN</td>\n",
       "    </tr>\n",
       "    <tr>\n",
       "      <th>min</th>\n",
       "      <td>1.000000</td>\n",
       "      <td>0.000000</td>\n",
       "      <td>0.000000</td>\n",
       "      <td>NaN</td>\n",
       "      <td>1.000000e+00</td>\n",
       "      <td>2.000000e+00</td>\n",
       "      <td>2.000000</td>\n",
       "      <td>1.000000</td>\n",
       "      <td>1.0</td>\n",
       "      <td>NaN</td>\n",
       "      <td>NaN</td>\n",
       "      <td>NaN</td>\n",
       "      <td>NaN</td>\n",
       "      <td>NaN</td>\n",
       "      <td>NaN</td>\n",
       "      <td>NaN</td>\n",
       "      <td>NaN</td>\n",
       "      <td>480.000000</td>\n",
       "      <td>480.000000</td>\n",
       "      <td>NaN</td>\n",
       "      <td>6.000000</td>\n",
       "      <td>NaN</td>\n",
       "      <td>NaN</td>\n",
       "      <td>128.000000</td>\n",
       "      <td>NaN</td>\n",
       "      <td>4100.041000</td>\n",
       "      <td>NaN</td>\n",
       "    </tr>\n",
       "    <tr>\n",
       "      <th>25%</th>\n",
       "      <td>108.000000</td>\n",
       "      <td>113.000000</td>\n",
       "      <td>0.000000</td>\n",
       "      <td>NaN</td>\n",
       "      <td>2.755000e+03</td>\n",
       "      <td>4.200000e+01</td>\n",
       "      <td>21.000000</td>\n",
       "      <td>4.438615</td>\n",
       "      <td>1.0</td>\n",
       "      <td>NaN</td>\n",
       "      <td>NaN</td>\n",
       "      <td>NaN</td>\n",
       "      <td>NaN</td>\n",
       "      <td>NaN</td>\n",
       "      <td>NaN</td>\n",
       "      <td>NaN</td>\n",
       "      <td>NaN</td>\n",
       "      <td>3840.000000</td>\n",
       "      <td>1920.000000</td>\n",
       "      <td>NaN</td>\n",
       "      <td>30.000000</td>\n",
       "      <td>NaN</td>\n",
       "      <td>NaN</td>\n",
       "      <td>128.000000</td>\n",
       "      <td>NaN</td>\n",
       "      <td>4407.926500</td>\n",
       "      <td>NaN</td>\n",
       "    </tr>\n",
       "    <tr>\n",
       "      <th>50%</th>\n",
       "      <td>636.500000</td>\n",
       "      <td>190.000000</td>\n",
       "      <td>0.000000</td>\n",
       "      <td>NaN</td>\n",
       "      <td>1.472165e+05</td>\n",
       "      <td>1.920000e+03</td>\n",
       "      <td>265.000000</td>\n",
       "      <td>4.666666</td>\n",
       "      <td>1.0</td>\n",
       "      <td>NaN</td>\n",
       "      <td>NaN</td>\n",
       "      <td>NaN</td>\n",
       "      <td>NaN</td>\n",
       "      <td>NaN</td>\n",
       "      <td>NaN</td>\n",
       "      <td>NaN</td>\n",
       "      <td>NaN</td>\n",
       "      <td>3840.000000</td>\n",
       "      <td>2048.000000</td>\n",
       "      <td>NaN</td>\n",
       "      <td>30.000000</td>\n",
       "      <td>NaN</td>\n",
       "      <td>NaN</td>\n",
       "      <td>160.000000</td>\n",
       "      <td>NaN</td>\n",
       "      <td>4715.812000</td>\n",
       "      <td>NaN</td>\n",
       "    </tr>\n",
       "    <tr>\n",
       "      <th>75%</th>\n",
       "      <td>1333.000000</td>\n",
       "      <td>331.000000</td>\n",
       "      <td>0.000000</td>\n",
       "      <td>NaN</td>\n",
       "      <td>3.079794e+06</td>\n",
       "      <td>2.812100e+04</td>\n",
       "      <td>3713.500000</td>\n",
       "      <td>4.869174</td>\n",
       "      <td>1.0</td>\n",
       "      <td>NaN</td>\n",
       "      <td>NaN</td>\n",
       "      <td>NaN</td>\n",
       "      <td>NaN</td>\n",
       "      <td>NaN</td>\n",
       "      <td>NaN</td>\n",
       "      <td>NaN</td>\n",
       "      <td>NaN</td>\n",
       "      <td>3840.000000</td>\n",
       "      <td>2160.000000</td>\n",
       "      <td>NaN</td>\n",
       "      <td>30.000000</td>\n",
       "      <td>NaN</td>\n",
       "      <td>NaN</td>\n",
       "      <td>160.000000</td>\n",
       "      <td>NaN</td>\n",
       "      <td>4715.812000</td>\n",
       "      <td>NaN</td>\n",
       "    </tr>\n",
       "    <tr>\n",
       "      <th>max</th>\n",
       "      <td>2107.000000</td>\n",
       "      <td>42900.000000</td>\n",
       "      <td>18.000000</td>\n",
       "      <td>NaN</td>\n",
       "      <td>2.155207e+08</td>\n",
       "      <td>1.137600e+06</td>\n",
       "      <td>634827.000000</td>\n",
       "      <td>5.000000</td>\n",
       "      <td>1.0</td>\n",
       "      <td>NaN</td>\n",
       "      <td>NaN</td>\n",
       "      <td>NaN</td>\n",
       "      <td>NaN</td>\n",
       "      <td>NaN</td>\n",
       "      <td>NaN</td>\n",
       "      <td>NaN</td>\n",
       "      <td>NaN</td>\n",
       "      <td>8640.000000</td>\n",
       "      <td>8192.000000</td>\n",
       "      <td>NaN</td>\n",
       "      <td>60.000000</td>\n",
       "      <td>NaN</td>\n",
       "      <td>NaN</td>\n",
       "      <td>256.000000</td>\n",
       "      <td>NaN</td>\n",
       "      <td>4715.812000</td>\n",
       "      <td>NaN</td>\n",
       "    </tr>\n",
       "  </tbody>\n",
       "</table>\n",
       "</div>"
      ],
      "text/plain": [
       "       upload_date      duration    age_limit  annotations    view_count  \\\n",
       "count  2946.000000   2946.000000  2946.000000          0.0  2.946000e+03   \n",
       "mean    753.194501    363.051935     0.073320          NaN  4.609322e+06   \n",
       "std     642.690270   1067.068891     1.146659          NaN  1.279300e+07   \n",
       "min       1.000000      0.000000     0.000000          NaN  1.000000e+00   \n",
       "25%     108.000000    113.000000     0.000000          NaN  2.755000e+03   \n",
       "50%     636.500000    190.000000     0.000000          NaN  1.472165e+05   \n",
       "75%    1333.000000    331.000000     0.000000          NaN  3.079794e+06   \n",
       "max    2107.000000  42900.000000    18.000000          NaN  2.155207e+08   \n",
       "\n",
       "         like_count  dislike_count  average_rating  is_live  series  \\\n",
       "count  2.758000e+03    2394.000000     2826.000000      3.0     0.0   \n",
       "mean   3.663658e+04    4877.703843        4.588338      1.0     NaN   \n",
       "std    9.344001e+04   17386.757771        0.435597      0.0     NaN   \n",
       "min    2.000000e+00       2.000000        1.000000      1.0     NaN   \n",
       "25%    4.200000e+01      21.000000        4.438615      1.0     NaN   \n",
       "50%    1.920000e+03     265.000000        4.666666      1.0     NaN   \n",
       "75%    2.812100e+04    3713.500000        4.869174      1.0     NaN   \n",
       "max    1.137600e+06  634827.000000        5.000000      1.0     NaN   \n",
       "\n",
       "       season_number  episode_number  release_date  release_year  playlist  \\\n",
       "count            0.0             0.0           0.0           0.0       0.0   \n",
       "mean             NaN             NaN           NaN           NaN       NaN   \n",
       "std              NaN             NaN           NaN           NaN       NaN   \n",
       "min              NaN             NaN           NaN           NaN       NaN   \n",
       "25%              NaN             NaN           NaN           NaN       NaN   \n",
       "50%              NaN             NaN           NaN           NaN       NaN   \n",
       "75%              NaN             NaN           NaN           NaN       NaN   \n",
       "max              NaN             NaN           NaN           NaN       NaN   \n",
       "\n",
       "       playlist_index  requested_subtitles        width       height  \\\n",
       "count             0.0                  0.0  2946.000000  2946.000000   \n",
       "mean              NaN                  NaN  3606.580448  1942.510523   \n",
       "std               NaN                  NaN  1010.419489   609.748291   \n",
       "min               NaN                  NaN   480.000000   480.000000   \n",
       "25%               NaN                  NaN  3840.000000  1920.000000   \n",
       "50%               NaN                  NaN  3840.000000  2048.000000   \n",
       "75%               NaN                  NaN  3840.000000  2160.000000   \n",
       "max               NaN                  NaN  8640.000000  8192.000000   \n",
       "\n",
       "       resolution          fps  vbr  stretched_ratio          abr  preference  \\\n",
       "count         0.0  2946.000000  0.0              0.0  2782.000000         0.0   \n",
       "mean          NaN    34.916497  NaN              NaN   151.189073         NaN   \n",
       "std           NaN    12.625189  NaN              NaN    14.602322         NaN   \n",
       "min           NaN     6.000000  NaN              NaN   128.000000         NaN   \n",
       "25%           NaN    30.000000  NaN              NaN   128.000000         NaN   \n",
       "50%           NaN    30.000000  NaN              NaN   160.000000         NaN   \n",
       "75%           NaN    30.000000  NaN              NaN   160.000000         NaN   \n",
       "max           NaN    60.000000  NaN              NaN   256.000000         NaN   \n",
       "\n",
       "               tbr  player_url  \n",
       "count     3.000000         0.0  \n",
       "mean   4510.555000         NaN  \n",
       "std     355.515553         NaN  \n",
       "min    4100.041000         NaN  \n",
       "25%    4407.926500         NaN  \n",
       "50%    4715.812000         NaN  \n",
       "75%    4715.812000         NaN  \n",
       "max    4715.812000         NaN  "
      ]
     },
     "execution_count": 7,
     "metadata": {},
     "output_type": "execute_result"
    }
   ],
   "source": [
    "frame.describe()"
   ]
  },
  {
   "cell_type": "code",
   "execution_count": 8,
   "metadata": {
    "scrolled": true
   },
   "outputs": [
    {
     "name": "stdout",
     "output_type": "stream",
     "text": [
      "['id', 'uploader', 'uploader_id', 'uploader_url', 'channel_id', 'channel_url', 'upload_date', 'license', 'creator', 'title', 'alt_title', 'thumbnails', 'description', 'categories', 'tags', 'subtitles', 'automatic_captions', 'duration', 'age_limit', 'annotations', 'chapters', 'webpage_url', 'view_count', 'like_count', 'dislike_count', 'average_rating', 'formats', 'is_live', 'start_time', 'end_time', 'series', 'season_number', 'episode_number', 'track', 'artist', 'album', 'release_date', 'release_year', 'extractor', 'webpage_url_basename', 'extractor_key', 'playlist', 'playlist_index', 'thumbnail', 'display_id', 'requested_subtitles', 'requested_formats', 'format', 'format_id', 'width', 'height', 'resolution', 'fps', 'vcodec', 'vbr', 'stretched_ratio', 'acodec', 'abr', 'ext', 'fulltitle', '_filename']\n"
     ]
    }
   ],
   "source": [
    "print(df.columns.tolist())"
   ]
  },
  {
   "cell_type": "code",
   "execution_count": 9,
   "metadata": {},
   "outputs": [
    {
     "data": {
      "text/plain": [
       "15"
      ]
     },
     "execution_count": 9,
     "metadata": {},
     "output_type": "execute_result"
    }
   ],
   "source": [
    "len(frame['categories'].apply(sorted).transform(tuple).unique())"
   ]
  },
  {
   "cell_type": "code",
   "execution_count": 10,
   "metadata": {},
   "outputs": [],
   "source": [
    "categories = pd.DataFrame(frame['categories'].apply(sorted).transform(tuple).unique())"
   ]
  },
  {
   "cell_type": "code",
   "execution_count": 11,
   "metadata": {
    "scrolled": true
   },
   "outputs": [
    {
     "data": {
      "text/html": [
       "<div>\n",
       "<style scoped>\n",
       "    .dataframe tbody tr th:only-of-type {\n",
       "        vertical-align: middle;\n",
       "    }\n",
       "\n",
       "    .dataframe tbody tr th {\n",
       "        vertical-align: top;\n",
       "    }\n",
       "\n",
       "    .dataframe thead th {\n",
       "        text-align: right;\n",
       "    }\n",
       "</style>\n",
       "<table border=\"1\" class=\"dataframe\">\n",
       "  <thead>\n",
       "    <tr style=\"text-align: right;\">\n",
       "      <th></th>\n",
       "      <th>0</th>\n",
       "    </tr>\n",
       "  </thead>\n",
       "  <tbody>\n",
       "    <tr>\n",
       "      <th>0</th>\n",
       "      <td>(Entertainment,)</td>\n",
       "    </tr>\n",
       "    <tr>\n",
       "      <th>1</th>\n",
       "      <td>(Travel &amp; Events,)</td>\n",
       "    </tr>\n",
       "    <tr>\n",
       "      <th>2</th>\n",
       "      <td>(Gaming,)</td>\n",
       "    </tr>\n",
       "    <tr>\n",
       "      <th>3</th>\n",
       "      <td>(Film &amp; Animation,)</td>\n",
       "    </tr>\n",
       "    <tr>\n",
       "      <th>4</th>\n",
       "      <td>(Music,)</td>\n",
       "    </tr>\n",
       "    <tr>\n",
       "      <th>5</th>\n",
       "      <td>(Autos &amp; Vehicles,)</td>\n",
       "    </tr>\n",
       "    <tr>\n",
       "      <th>6</th>\n",
       "      <td>(People &amp; Blogs,)</td>\n",
       "    </tr>\n",
       "    <tr>\n",
       "      <th>7</th>\n",
       "      <td>(News &amp; Politics,)</td>\n",
       "    </tr>\n",
       "    <tr>\n",
       "      <th>8</th>\n",
       "      <td>(Sports,)</td>\n",
       "    </tr>\n",
       "    <tr>\n",
       "      <th>9</th>\n",
       "      <td>(Comedy,)</td>\n",
       "    </tr>\n",
       "    <tr>\n",
       "      <th>10</th>\n",
       "      <td>(Education,)</td>\n",
       "    </tr>\n",
       "    <tr>\n",
       "      <th>11</th>\n",
       "      <td>(Nonprofits &amp; Activism,)</td>\n",
       "    </tr>\n",
       "    <tr>\n",
       "      <th>12</th>\n",
       "      <td>(Science &amp; Technology,)</td>\n",
       "    </tr>\n",
       "    <tr>\n",
       "      <th>13</th>\n",
       "      <td>(Pets &amp; Animals,)</td>\n",
       "    </tr>\n",
       "    <tr>\n",
       "      <th>14</th>\n",
       "      <td>(Howto &amp; Style,)</td>\n",
       "    </tr>\n",
       "  </tbody>\n",
       "</table>\n",
       "</div>"
      ],
      "text/plain": [
       "                           0\n",
       "0           (Entertainment,)\n",
       "1         (Travel & Events,)\n",
       "2                  (Gaming,)\n",
       "3        (Film & Animation,)\n",
       "4                   (Music,)\n",
       "5        (Autos & Vehicles,)\n",
       "6          (People & Blogs,)\n",
       "7         (News & Politics,)\n",
       "8                  (Sports,)\n",
       "9                  (Comedy,)\n",
       "10              (Education,)\n",
       "11  (Nonprofits & Activism,)\n",
       "12   (Science & Technology,)\n",
       "13         (Pets & Animals,)\n",
       "14          (Howto & Style,)"
      ]
     },
     "execution_count": 11,
     "metadata": {},
     "output_type": "execute_result"
    }
   ],
   "source": [
    "categories"
   ]
  },
  {
   "cell_type": "code",
   "execution_count": 12,
   "metadata": {},
   "outputs": [],
   "source": [
    "grouped = frame.groupby(\"categories\")"
   ]
  },
  {
   "cell_type": "code",
   "execution_count": 13,
   "metadata": {},
   "outputs": [],
   "source": [
    "newFrame = frame['categories'].apply(sorted).transform(tuple)"
   ]
  },
  {
   "cell_type": "code",
   "execution_count": 14,
   "metadata": {},
   "outputs": [],
   "source": [
    "frame[\"tupleCat\"] = newFrame"
   ]
  },
  {
   "cell_type": "code",
   "execution_count": 15,
   "metadata": {},
   "outputs": [
    {
     "data": {
      "text/plain": [
       "0          (Entertainment,)\n",
       "1        (Travel & Events,)\n",
       "2                 (Gaming,)\n",
       "3       (Film & Animation,)\n",
       "4                 (Gaming,)\n",
       "               ...         \n",
       "2941              (Gaming,)\n",
       "2942              (Gaming,)\n",
       "2943              (Gaming,)\n",
       "2944       (Entertainment,)\n",
       "2945       (Entertainment,)\n",
       "Name: tupleCat, Length: 2946, dtype: object"
      ]
     },
     "execution_count": 15,
     "metadata": {},
     "output_type": "execute_result"
    }
   ],
   "source": [
    "frame[\"tupleCat\"]"
   ]
  },
  {
   "cell_type": "code",
   "execution_count": 16,
   "metadata": {
    "scrolled": false
   },
   "outputs": [
    {
     "data": {
      "text/plain": [
       "tupleCat\n",
       "(Autos & Vehicles,)          71\n",
       "(Comedy,)                    40\n",
       "(Education,)                183\n",
       "(Entertainment,)            457\n",
       "(Film & Animation,)         304\n",
       "(Gaming,)                   798\n",
       "(Howto & Style,)             22\n",
       "(Music,)                    156\n",
       "(News & Politics,)           56\n",
       "(Nonprofits & Activism,)     28\n",
       "(People & Blogs,)           293\n",
       "(Pets & Animals,)            54\n",
       "(Science & Technology,)     114\n",
       "(Sports,)                   119\n",
       "(Travel & Events,)          251\n",
       "Name: id, dtype: int64"
      ]
     },
     "execution_count": 16,
     "metadata": {},
     "output_type": "execute_result"
    }
   ],
   "source": [
    "frame.groupby(\"tupleCat\").agg(\"count\")[\"id\"]"
   ]
  },
  {
   "cell_type": "markdown",
   "metadata": {},
   "source": [
    "Note: make a bar chart of category video count"
   ]
  },
  {
   "cell_type": "markdown",
   "metadata": {},
   "source": [
    "## Plotting relations between categories and other characteristics"
   ]
  },
  {
   "cell_type": "markdown",
   "metadata": {},
   "source": [
    "### Upload date"
   ]
  },
  {
   "cell_type": "code",
   "execution_count": 17,
   "metadata": {
    "scrolled": false
   },
   "outputs": [
    {
     "data": {
      "text/plain": [
       "[<matplotlib.axis.YTick at 0x7f3e48389c70>,\n",
       " <matplotlib.axis.YTick at 0x7f3e48389850>,\n",
       " <matplotlib.axis.YTick at 0x7f3e483af670>,\n",
       " <matplotlib.axis.YTick at 0x7f3e48177580>,\n",
       " <matplotlib.axis.YTick at 0x7f3e483654f0>]"
      ]
     },
     "execution_count": 17,
     "metadata": {},
     "output_type": "execute_result"
    },
    {
     "data": {
      "image/png": "[encoded data removed]",
      "text/plain": [
       "<Figure size 1440x720 with 1 Axes>"
      ]
     },
     "metadata": {
      "needs_background": "light"
     },
     "output_type": "display_data"
    }
   ],
   "source": [
    "fig, ax = plt.subplots(figsize=(20, 10))\n",
    "frame.explode('categories').boxplot(by='categories', column=['upload_date'], ax=ax, grid=False)\n",
    "\n",
    "ax.yaxis.grid(which='major', linestyle='-', linewidth='0.5', color='red')\n",
    "ax.get_yaxis().set_ticks([365, 730, 1095, 1460, 1825])"
   ]
  },
  {
   "cell_type": "markdown",
   "metadata": {},
   "source": [
    "### Popularity"
   ]
  },
  {
   "cell_type": "markdown",
   "metadata": {},
   "source": [
    "#### Plot popularity"
   ]
  },
  {
   "cell_type": "markdown",
   "metadata": {},
   "source": [
    "Note: like/dislike ratio is not being used for calculating the popularity of a video (see paragraph under graphs)."
   ]
  },
  {
   "cell_type": "code",
   "execution_count": 18,
   "metadata": {},
   "outputs": [
    {
     "name": "stderr",
     "output_type": "stream",
     "text": [
      "<ipython-input-18-25ff2b57a10d>:15: SettingWithCopyWarning: \n",
      "A value is trying to be set on a copy of a slice from a DataFrame\n",
      "\n",
      "See the caveats in the documentation: https://pandas.pydata.org/pandas-docs/stable/user_guide/indexing.html#returning-a-view-versus-a-copy\n",
      "  frame['like_dislike_ratio'][i] = like_dislike_ratio\n",
      "<ipython-input-18-25ff2b57a10d>:16: SettingWithCopyWarning: \n",
      "A value is trying to be set on a copy of a slice from a DataFrame\n",
      "\n",
      "See the caveats in the documentation: https://pandas.pydata.org/pandas-docs/stable/user_guide/indexing.html#returning-a-view-versus-a-copy\n",
      "  frame['popularity'][i] =  popularity\n"
     ]
    }
   ],
   "source": [
    "# For each entry, calculate its popularity\n",
    "frame['popularity'] = 0.0 # initial float value\n",
    "frame['like_dislike_ratio'] = 0.0\n",
    "\n",
    "for i in frame.index:\n",
    "    view_count = frame['view_count'][i]\n",
    "    days_since_upload = frame['upload_date'][i]\n",
    "    like_count = frame['like_count'][i]\n",
    "    dislike_count = frame['dislike_count'][i]\n",
    "\n",
    "    like_dislike_ratio = like_count / dislike_count\n",
    "\n",
    "    popularity = (view_count / float(days_since_upload))# * like_dislike_ratio\n",
    "\n",
    "    frame['like_dislike_ratio'][i] = like_dislike_ratio\n",
    "    frame['popularity'][i] =  popularity"
   ]
  },
  {
   "cell_type": "code",
   "execution_count": 19,
   "metadata": {},
   "outputs": [
    {
     "data": {
      "image/png": "[encoded data removed]",
      "text/plain": [
       "<Figure size 1440x720 with 1 Axes>"
      ]
     },
     "metadata": {
      "needs_background": "light"
     },
     "output_type": "display_data"
    }
   ],
   "source": [
    "# Plot popularity\n",
    "\n",
    "fig, ax = plt.subplots(figsize=(20, 10))\n",
    "frame.explode('categories').boxplot(by='categories', column=['popularity'], ax=ax, grid=False, showfliers=False)\n",
    "\n",
    "ax.yaxis.grid(which='major', linestyle='-', linewidth='0.5', color='red')"
   ]
  },
  {
   "cell_type": "markdown",
   "metadata": {},
   "source": [
    "#### Plot like/dislike ratio"
   ]
  },
  {
   "cell_type": "code",
   "execution_count": 20,
   "metadata": {
    "scrolled": false
   },
   "outputs": [
    {
     "data": {
      "text/plain": [
       "[<matplotlib.axis.YTick at 0x7f3e4811ab20>,\n",
       " <matplotlib.axis.YTick at 0x7f3e4811a2b0>]"
      ]
     },
     "execution_count": 20,
     "metadata": {},
     "output_type": "execute_result"
    },
    {
     "data": {
      "image/png": "[encoded data removed]",
      "text/plain": [
       "<Figure size 1440x720 with 1 Axes>"
      ]
     },
     "metadata": {
      "needs_background": "light"
     },
     "output_type": "display_data"
    }
   ],
   "source": [
    "fig, ax = plt.subplots(figsize=(20, 10))\n",
    "frame.explode('categories').boxplot(by='categories', column=['like_dislike_ratio'], ax=ax, grid=False, showfliers=False)\n",
    "\n",
    "ax.yaxis.grid(which='major', linestyle='-', linewidth='0.5', color='red')\n",
    "ax.get_yaxis().set_ticks([1, 10])"
   ]
  },
  {
   "cell_type": "markdown",
   "metadata": {},
   "source": [
    "In the boxplot above, we find that the ratio between likes and dislikes on a video is hardly ever below 1. Therefore, we may conclude that viewers are more inclined to indicate which videos they like than to indicate which videos they dislike. And indeed, content creators usually encourage their audience to like their videos. Therefore, the ratio between likes and dislikes seems to be positively dominated by a relatively high number of likes.\n",
    "\n",
    "This means that the like/dislike ratio may overrepresent the positive perception and we must be careful with using this metric."
   ]
  },
  {
   "cell_type": "markdown",
   "metadata": {},
   "source": [
    "### Available representations"
   ]
  },
  {
   "cell_type": "markdown",
   "metadata": {},
   "source": [
    "#### Number of representations"
   ]
  },
  {
   "cell_type": "markdown",
   "metadata": {},
   "source": [
    "Not solved yet."
   ]
  },
  {
   "cell_type": "code",
   "execution_count": 21,
   "metadata": {
    "scrolled": false
   },
   "outputs": [
    {
     "ename": "KeyError",
     "evalue": "'formats'",
     "output_type": "error",
     "traceback": [
      "\u001b[0;31m---------------------------------------------------------------------------\u001b[0m",
      "\u001b[0;31mKeyError\u001b[0m                                  Traceback (most recent call last)",
      "\u001b[0;32m~/.anaconda3/lib/python3.8/site-packages/pandas/core/indexes/base.py\u001b[0m in \u001b[0;36mget_loc\u001b[0;34m(self, key, method, tolerance)\u001b[0m\n\u001b[1;32m   2894\u001b[0m             \u001b[0;32mtry\u001b[0m\u001b[0;34m:\u001b[0m\u001b[0;34m\u001b[0m\u001b[0;34m\u001b[0m\u001b[0m\n\u001b[0;32m-> 2895\u001b[0;31m                 \u001b[0;32mreturn\u001b[0m \u001b[0mself\u001b[0m\u001b[0;34m.\u001b[0m\u001b[0m_engine\u001b[0m\u001b[0;34m.\u001b[0m\u001b[0mget_loc\u001b[0m\u001b[0;34m(\u001b[0m\u001b[0mcasted_key\u001b[0m\u001b[0;34m)\u001b[0m\u001b[0;34m\u001b[0m\u001b[0;34m\u001b[0m\u001b[0m\n\u001b[0m\u001b[1;32m   2896\u001b[0m             \u001b[0;32mexcept\u001b[0m \u001b[0mKeyError\u001b[0m \u001b[0;32mas\u001b[0m \u001b[0merr\u001b[0m\u001b[0;34m:\u001b[0m\u001b[0;34m\u001b[0m\u001b[0;34m\u001b[0m\u001b[0m\n",
      "\u001b[0;32mpandas/_libs/index.pyx\u001b[0m in \u001b[0;36mpandas._libs.index.IndexEngine.get_loc\u001b[0;34m()\u001b[0m\n",
      "\u001b[0;32mpandas/_libs/index.pyx\u001b[0m in \u001b[0;36mpandas._libs.index.IndexEngine.get_loc\u001b[0;34m()\u001b[0m\n",
      "\u001b[0;32mpandas/_libs/hashtable_class_helper.pxi\u001b[0m in \u001b[0;36mpandas._libs.hashtable.PyObjectHashTable.get_item\u001b[0;34m()\u001b[0m\n",
      "\u001b[0;32mpandas/_libs/hashtable_class_helper.pxi\u001b[0m in \u001b[0;36mpandas._libs.hashtable.PyObjectHashTable.get_item\u001b[0;34m()\u001b[0m\n",
      "\u001b[0;31mKeyError\u001b[0m: 'formats'",
      "\nThe above exception was the direct cause of the following exception:\n",
      "\u001b[0;31mKeyError\u001b[0m                                  Traceback (most recent call last)",
      "\u001b[0;32m<ipython-input-21-cd5fba761376>\u001b[0m in \u001b[0;36m<module>\u001b[0;34m\u001b[0m\n\u001b[1;32m      6\u001b[0m \u001b[0mdf1\u001b[0m \u001b[0;34m=\u001b[0m \u001b[0mdf1\u001b[0m\u001b[0;34m[\u001b[0m\u001b[0mdf1\u001b[0m\u001b[0;34m.\u001b[0m\u001b[0mvcodec\u001b[0m \u001b[0;34m!=\u001b[0m \u001b[0;34m\"none\"\u001b[0m\u001b[0;34m]\u001b[0m\u001b[0;34m\u001b[0m\u001b[0;34m\u001b[0m\u001b[0m\n\u001b[1;32m      7\u001b[0m \u001b[0;34m\u001b[0m\u001b[0m\n\u001b[0;32m----> 8\u001b[0;31m \u001b[0mdf1\u001b[0m\u001b[0;34m[\u001b[0m\u001b[0;34m'available_representations'\u001b[0m\u001b[0;34m]\u001b[0m \u001b[0;34m=\u001b[0m \u001b[0mdf1\u001b[0m\u001b[0;34m[\u001b[0m\u001b[0;34m'formats'\u001b[0m\u001b[0;34m]\u001b[0m\u001b[0;34m.\u001b[0m\u001b[0mstr\u001b[0m\u001b[0;34m.\u001b[0m\u001b[0mlen\u001b[0m\u001b[0;34m(\u001b[0m\u001b[0;34m)\u001b[0m\u001b[0;34m\u001b[0m\u001b[0;34m\u001b[0m\u001b[0m\n\u001b[0m\u001b[1;32m      9\u001b[0m \u001b[0;34m\u001b[0m\u001b[0m\n\u001b[1;32m     10\u001b[0m \u001b[0mfig\u001b[0m\u001b[0;34m,\u001b[0m \u001b[0max\u001b[0m \u001b[0;34m=\u001b[0m \u001b[0mplt\u001b[0m\u001b[0;34m.\u001b[0m\u001b[0msubplots\u001b[0m\u001b[0;34m(\u001b[0m\u001b[0mfigsize\u001b[0m\u001b[0;34m=\u001b[0m\u001b[0;34m(\u001b[0m\u001b[0;36m20\u001b[0m\u001b[0;34m,\u001b[0m \u001b[0;36m10\u001b[0m\u001b[0;34m)\u001b[0m\u001b[0;34m)\u001b[0m\u001b[0;34m\u001b[0m\u001b[0;34m\u001b[0m\u001b[0m\n",
      "\u001b[0;32m~/.anaconda3/lib/python3.8/site-packages/pandas/core/frame.py\u001b[0m in \u001b[0;36m__getitem__\u001b[0;34m(self, key)\u001b[0m\n\u001b[1;32m   2900\u001b[0m             \u001b[0;32mif\u001b[0m \u001b[0mself\u001b[0m\u001b[0;34m.\u001b[0m\u001b[0mcolumns\u001b[0m\u001b[0;34m.\u001b[0m\u001b[0mnlevels\u001b[0m \u001b[0;34m>\u001b[0m \u001b[0;36m1\u001b[0m\u001b[0;34m:\u001b[0m\u001b[0;34m\u001b[0m\u001b[0;34m\u001b[0m\u001b[0m\n\u001b[1;32m   2901\u001b[0m                 \u001b[0;32mreturn\u001b[0m \u001b[0mself\u001b[0m\u001b[0;34m.\u001b[0m\u001b[0m_getitem_multilevel\u001b[0m\u001b[0;34m(\u001b[0m\u001b[0mkey\u001b[0m\u001b[0;34m)\u001b[0m\u001b[0;34m\u001b[0m\u001b[0;34m\u001b[0m\u001b[0m\n\u001b[0;32m-> 2902\u001b[0;31m             \u001b[0mindexer\u001b[0m \u001b[0;34m=\u001b[0m \u001b[0mself\u001b[0m\u001b[0;34m.\u001b[0m\u001b[0mcolumns\u001b[0m\u001b[0;34m.\u001b[0m\u001b[0mget_loc\u001b[0m\u001b[0;34m(\u001b[0m\u001b[0mkey\u001b[0m\u001b[0;34m)\u001b[0m\u001b[0;34m\u001b[0m\u001b[0;34m\u001b[0m\u001b[0m\n\u001b[0m\u001b[1;32m   2903\u001b[0m             \u001b[0;32mif\u001b[0m \u001b[0mis_integer\u001b[0m\u001b[0;34m(\u001b[0m\u001b[0mindexer\u001b[0m\u001b[0;34m)\u001b[0m\u001b[0;34m:\u001b[0m\u001b[0;34m\u001b[0m\u001b[0;34m\u001b[0m\u001b[0m\n\u001b[1;32m   2904\u001b[0m                 \u001b[0mindexer\u001b[0m \u001b[0;34m=\u001b[0m \u001b[0;34m[\u001b[0m\u001b[0mindexer\u001b[0m\u001b[0;34m]\u001b[0m\u001b[0;34m\u001b[0m\u001b[0;34m\u001b[0m\u001b[0m\n",
      "\u001b[0;32m~/.anaconda3/lib/python3.8/site-packages/pandas/core/indexes/base.py\u001b[0m in \u001b[0;36mget_loc\u001b[0;34m(self, key, method, tolerance)\u001b[0m\n\u001b[1;32m   2895\u001b[0m                 \u001b[0;32mreturn\u001b[0m \u001b[0mself\u001b[0m\u001b[0;34m.\u001b[0m\u001b[0m_engine\u001b[0m\u001b[0;34m.\u001b[0m\u001b[0mget_loc\u001b[0m\u001b[0;34m(\u001b[0m\u001b[0mcasted_key\u001b[0m\u001b[0;34m)\u001b[0m\u001b[0;34m\u001b[0m\u001b[0;34m\u001b[0m\u001b[0m\n\u001b[1;32m   2896\u001b[0m             \u001b[0;32mexcept\u001b[0m \u001b[0mKeyError\u001b[0m \u001b[0;32mas\u001b[0m \u001b[0merr\u001b[0m\u001b[0;34m:\u001b[0m\u001b[0;34m\u001b[0m\u001b[0;34m\u001b[0m\u001b[0m\n\u001b[0;32m-> 2897\u001b[0;31m                 \u001b[0;32mraise\u001b[0m \u001b[0mKeyError\u001b[0m\u001b[0;34m(\u001b[0m\u001b[0mkey\u001b[0m\u001b[0;34m)\u001b[0m \u001b[0;32mfrom\u001b[0m \u001b[0merr\u001b[0m\u001b[0;34m\u001b[0m\u001b[0;34m\u001b[0m\u001b[0m\n\u001b[0m\u001b[1;32m   2898\u001b[0m \u001b[0;34m\u001b[0m\u001b[0m\n\u001b[1;32m   2899\u001b[0m         \u001b[0;32mif\u001b[0m \u001b[0mtolerance\u001b[0m \u001b[0;32mis\u001b[0m \u001b[0;32mnot\u001b[0m \u001b[0;32mNone\u001b[0m\u001b[0;34m:\u001b[0m\u001b[0;34m\u001b[0m\u001b[0;34m\u001b[0m\u001b[0m\n",
      "\u001b[0;31mKeyError\u001b[0m: 'formats'"
     ]
    }
   ],
   "source": [
    "df1 = (pd.concat({i: pd.DataFrame(x) for i, x in frame.pop('formats').items()})\n",
    "         .reset_index(level=1, drop=True)\n",
    "         .join(frame, rsuffix='_shared')\n",
    "         .reset_index(drop=True))\n",
    "\n",
    "df1 = df1[df1.vcodec != \"none\"]\n",
    "\n",
    "df1['available_representations'] = df1['formats'].str.len()\n",
    "\n",
    "fig, ax = plt.subplots(figsize=(20, 10))\n",
    "df1.explode('categories').boxplot(by='categories', column=['available_representations'], ax=ax, grid=False, showfliers=False)\n",
    "\n",
    "ax.yaxis.grid(which='major', linestyle='-', linewidth='0.5', color='red')"
   ]
  },
  {
   "cell_type": "code",
   "execution_count": null,
   "metadata": {
    "scrolled": true
   },
   "outputs": [],
   "source": [
    "# df1 = (pd.concat({i: pd.DataFrame(x) for i, x in frame.pop('formats').items()})\n",
    "#          .reset_index(level=1, drop=True)\n",
    "#          .join(frame, rsuffix='_shared')\n",
    "#          .reset_index(drop=True))\n",
    "\n",
    "# df1 = df1[df1.vcodec != \"none\"]"
   ]
  },
  {
   "cell_type": "markdown",
   "metadata": {},
   "source": [
    "#### Average bitrate"
   ]
  },
  {
   "cell_type": "code",
   "execution_count": null,
   "metadata": {},
   "outputs": [],
   "source": [
    "# Create column for average bitrate (kbps)\n",
    "df1['average_bitrate'] = 0.0\n",
    "\n",
    "for i in df1.index:\n",
    "    try:\n",
    "        file_size_bytes = df1['filesize'][i]\n",
    "        file_size_bits = file_size_bytes * 8\n",
    "        \n",
    "        duration = df1['duration'][i]\n",
    "        \n",
    "        average_bitrate = (file_size_bits / float(duration)) / 1000 # average bitrate in kbps\n",
    "        \n",
    "        df1['average_bitrate'][i] =  average_bitrate\n",
    "    except:\n",
    "        pass"
   ]
  },
  {
   "cell_type": "code",
   "execution_count": null,
   "metadata": {
    "scrolled": false
   },
   "outputs": [],
   "source": [
    "fig, ax = plt.subplots(figsize=(20, 10))\n",
    "df1.explode('categories').boxplot(by='categories', column=['average_bitrate'], ax=ax, grid=False, showfliers=False)\n",
    "\n",
    "ax.yaxis.grid(which='major', linestyle='-', linewidth='0.5', color='red')"
   ]
  },
  {
   "cell_type": "markdown",
   "metadata": {},
   "source": [
    "#### File types"
   ]
  },
  {
   "cell_type": "code",
   "execution_count": null,
   "metadata": {},
   "outputs": [],
   "source": [
    "df1.groupby('categories')"
   ]
  },
  {
   "cell_type": "code",
   "execution_count": null,
   "metadata": {
    "scrolled": true
   },
   "outputs": [],
   "source": [
    "df1.groupby('ext').agg('count')[\"id\"]"
   ]
  },
  {
   "cell_type": "markdown",
   "metadata": {},
   "source": [
    "#### Framerates"
   ]
  },
  {
   "cell_type": "code",
   "execution_count": null,
   "metadata": {},
   "outputs": [],
   "source": [
    "fig, ax = plt.subplots(figsize=(20, 10))\n",
    "df1.explode('categories').boxplot(by='categories', column=['fps'], ax=ax, grid=False, showfliers=True)\n",
    "\n",
    "ax.yaxis.grid(which='major', linestyle='-', linewidth='0.5', color='red')"
   ]
  },
  {
   "cell_type": "markdown",
   "metadata": {},
   "source": [
    "#### Durations"
   ]
  },
  {
   "cell_type": "code",
   "execution_count": null,
   "metadata": {},
   "outputs": [],
   "source": [
    "fig, ax = plt.subplots(figsize=(20, 10))\n",
    "df1.explode('categories').boxplot(by='categories', column=['duration'], ax=ax, grid=False, showfliers=False)\n",
    "\n",
    "ax.yaxis.grid(which='major', linestyle='-', linewidth='0.5', color='red')"
   ]
  },
  {
   "cell_type": "code",
   "execution_count": null,
   "metadata": {},
   "outputs": [],
   "source": []
  }
 ],
 "metadata": {
  "kernelspec": {
   "display_name": "Python 3",
   "language": "python",
   "name": "python3"
  },
  "language_info": {
   "codemirror_mode": {
    "name": "ipython",
    "version": 3
   },
   "file_extension": ".py",
   "mimetype": "text/x-python",
   "name": "python",
   "nbconvert_exporter": "python",
   "pygments_lexer": "ipython3",
   "version": "3.8.5"
  }
 },
 "nbformat": 4,
 "nbformat_minor": 4
}
