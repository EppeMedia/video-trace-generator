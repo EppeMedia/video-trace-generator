{
 "cells": [
  {
   "cell_type": "code",
   "execution_count": null,
   "metadata": {},
   "outputs": [],
   "source": [
    "import json\n",
    "import glob\n",
    "import os\n",
    "import time"
   ]
  },
  {
   "cell_type": "code",
   "execution_count": null,
   "metadata": {},
   "outputs": [],
   "source": [
    "def read_json_from_file(path):\n",
    "    with open(path, encoding=\"utf-8\") as json_file:\n",
    "        data = json.load(json_file)\n",
    "        \n",
    "    return data"
   ]
  },
  {
   "cell_type": "code",
   "execution_count": null,
   "metadata": {},
   "outputs": [],
   "source": [
    "# returns a Tuple of (a set of IDs and a dict traces)\n",
    "def get_traces(directory):\n",
    "    \n",
    "    # Check files to merge\n",
    "    file_names = glob.glob(os.path.join(directory, \"*.json\"))\n",
    "\n",
    "    # Set of trace IDs (for comparing contents)\n",
    "    trace_ids = set()\n",
    "    # Index linking trace IDs to trace objects\n",
    "    trace_dict = dict()\n",
    "    \n",
    "    for file_name in file_names:\n",
    "        with open(file_name, encoding=\"utf-8\") as traces_file:\n",
    "            traces = json.load(traces_file)\n",
    "\n",
    "            for trace in traces:\n",
    "                # Add ID to IDs set\n",
    "                trace_ids.add(trace[\"id\"])\n",
    "                # Add to trace dictionary\n",
    "                trace_dict.update({trace[\"id\"]: trace})\n",
    "    \n",
    "    # trace structure:       \n",
    "    # [ {id: string, ...}, {id: string, ...}, {id: string, ...}, ...]\n",
    "            \n",
    "    return trace_ids, trace_dict"
   ]
  },
  {
   "cell_type": "code",
   "execution_count": null,
   "metadata": {},
   "outputs": [],
   "source": [
    "def write_json_to_file(directory, data, filename=None):\n",
    "    if not os.path.exists(directory):\n",
    "        os.makedirs(directory)\n",
    "        \n",
    "    if (filename is None):\n",
    "        filename = '{0}.json'.format(time.time())\n",
    "\n",
    "    with open(os.path.join(directory, filename), 'w', encoding=\"utf-8\") as f:\n",
    "        json.dump(data, f, ensure_ascii=False)"
   ]
  },
  {
   "cell_type": "code",
   "execution_count": null,
   "metadata": {},
   "outputs": [],
   "source": [
    "# Get external traces tuple (to be merged)\n",
    "ext_trace_ids, ext_trace_dict = get_traces(os.path.join('..', 'merge_sets', 'tracesold'))\n",
    "# Internal traces tuple (to be merged to)\n",
    "int_trace_ids, int_trace_dict = get_traces('traces')\n",
    "\n",
    "unique_ext_ids = ext_trace_ids.difference(int_trace_ids)\n",
    "\n",
    "unique_merge_traces = list()\n",
    "\n",
    "for ID in unique_ext_ids:\n",
    "    unique_merge_traces.append(ext_trace_dict.get(ID))\n",
    "    \n",
    "write_json_to_file(\"traces\", unique_merge_traces, 'merged_{0}.json'.format(time.time()))"
   ]
  },
  {
   "cell_type": "code",
   "execution_count": null,
   "metadata": {},
   "outputs": [],
   "source": [
    "# Check successfulness of merge\n",
    "\n",
    "print(\"Set to merge is same size as id difference count? {}\".format(len(unique_merge_traces) == len(unique_ext_ids)))\n",
    "\n",
    "full_ids_set = ext_trace_ids.union(int_trace_ids)\n",
    "\n",
    "union_traces_size = len(ext_trace_dict) + len(int_trace_dict) - len(ext_trace_ids.intersection(int_trace_ids))\n",
    "\n",
    "print(\"Merged set is same size as expected? {}\".format(len(full_ids_set) == union_traces_size))"
   ]
  },
  {
   "cell_type": "code",
   "execution_count": null,
   "metadata": {},
   "outputs": [],
   "source": [
    "# TODO: empty merge folder"
   ]
  }
 ],
 "metadata": {
  "kernelspec": {
   "display_name": "Python 3",
   "language": "python",
   "name": "python3"
  },
  "language_info": {
   "codemirror_mode": {
    "name": "ipython",
    "version": 3
   },
   "file_extension": ".py",
   "mimetype": "text/x-python",
   "name": "python",
   "nbconvert_exporter": "python",
   "pygments_lexer": "ipython3",
   "version": "3.8.5"
  }
 },
 "nbformat": 4,
 "nbformat_minor": 4
}
